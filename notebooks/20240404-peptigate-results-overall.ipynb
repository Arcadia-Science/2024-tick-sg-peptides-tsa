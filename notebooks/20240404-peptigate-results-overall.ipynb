{
 "cells": [
  {
   "cell_type": "markdown",
   "id": "62920dda-ec57-4eab-bd33-8f90786a6edf",
   "metadata": {},
   "source": [
    "# Overview of peptigate results on TSA tick salivary gland transcriptomes\n",
    "\n",
    "This notebook provides a very brief overview of the peptides predicted in tick salivary gland transcriptomes by the peptigate pipeline.\n",
    "It joins output files and slices them in various ways to count the number and types of peptides predicted by peptigate."
   ]
  },
  {
   "cell_type": "markdown",
   "id": "7132af8f-c5a6-402a-80e5-0499855b6c0f",
   "metadata": {},
   "source": [
    "## Notebook setup"
   ]
  },
  {
   "cell_type": "code",
   "execution_count": 1,
   "id": "242f87d1-f24d-45d5-8230-36be2a22f448",
   "metadata": {},
   "outputs": [
    {
     "name": "stderr",
     "output_type": "stream",
     "text": [
      "── \u001b[1mAttaching core tidyverse packages\u001b[22m ────────────────────────────────────────────────────────────────────────────────────────────────────────────── tidyverse 2.0.0 ──\n",
      "\u001b[32m✔\u001b[39m \u001b[34mdplyr    \u001b[39m 1.1.4     \u001b[32m✔\u001b[39m \u001b[34mreadr    \u001b[39m 2.1.5\n",
      "\u001b[32m✔\u001b[39m \u001b[34mforcats  \u001b[39m 1.0.0     \u001b[32m✔\u001b[39m \u001b[34mstringr  \u001b[39m 1.5.1\n",
      "\u001b[32m✔\u001b[39m \u001b[34mggplot2  \u001b[39m 3.5.0     \u001b[32m✔\u001b[39m \u001b[34mtibble   \u001b[39m 3.2.1\n",
      "\u001b[32m✔\u001b[39m \u001b[34mlubridate\u001b[39m 1.9.3     \u001b[32m✔\u001b[39m \u001b[34mtidyr    \u001b[39m 1.3.1\n",
      "\u001b[32m✔\u001b[39m \u001b[34mpurrr    \u001b[39m 1.0.2     \n",
      "── \u001b[1mConflicts\u001b[22m ──────────────────────────────────────────────────────────────────────────────────────────────────────────────────────────────── tidyverse_conflicts() ──\n",
      "\u001b[31m✖\u001b[39m \u001b[34mdplyr\u001b[39m::\u001b[32mfilter()\u001b[39m masks \u001b[34mstats\u001b[39m::filter()\n",
      "\u001b[31m✖\u001b[39m \u001b[34mdplyr\u001b[39m::\u001b[32mlag()\u001b[39m    masks \u001b[34mstats\u001b[39m::lag()\n",
      "\u001b[36mℹ\u001b[39m Use the conflicted package (\u001b[3m\u001b[34m<http://conflicted.r-lib.org/>\u001b[39m\u001b[23m) to force all conflicts to become errors\n"
     ]
    }
   ],
   "source": [
    "library(tidyverse)"
   ]
  },
  {
   "cell_type": "code",
   "execution_count": 2,
   "id": "803bb294-788a-44bf-b97e-e38f404aaff5",
   "metadata": {},
   "outputs": [],
   "source": [
    "setwd(\"..\")"
   ]
  },
  {
   "cell_type": "markdown",
   "id": "6967e929-c84e-4b5b-af22-098d45809140",
   "metadata": {},
   "source": [
    "## Read in and tally peptigate results"
   ]
  },
  {
   "cell_type": "code",
   "execution_count": 5,
   "id": "0a98c758-e847-47e5-a170-0146c8c95a22",
   "metadata": {},
   "outputs": [],
   "source": [
    "peptigate_predictions <- Sys.glob(\"outputs/tsa_tick_sg_transcriptomes/*/predictions/peptide_predictions.tsv\") %>%\n",
    "  map_dfr(read_tsv, show_col_types = F)"
   ]
  },
  {
   "cell_type": "code",
   "execution_count": 22,
   "id": "8bb7e45e-689f-4902-9943-a086755af256",
   "metadata": {},
   "outputs": [],
   "source": [
    "peptigate_predictions_distinct <- peptigate_predictions %>%\n",
    "  select(-peptide_id) %>%\n",
    "  select(-nlpprecursor_class_score, -nlpprecursor_cleavage_score, -nucleotide_sequence,\n",
    "         -start, -end, -prediction_tool, -peptide_class) %>%\n",
    "  distinct()"
   ]
  },
  {
   "cell_type": "code",
   "execution_count": 25,
   "id": "3dd78ed3-30c7-44f2-9e7c-729fc3473640",
   "metadata": {},
   "outputs": [
    {
     "data": {
      "text/html": [
       "<table class=\"dataframe\">\n",
       "<caption>A tibble: 2 × 2</caption>\n",
       "<thead>\n",
       "\t<tr><th scope=col>peptide_type</th><th scope=col>n</th></tr>\n",
       "\t<tr><th scope=col>&lt;chr&gt;</th><th scope=col>&lt;int&gt;</th></tr>\n",
       "</thead>\n",
       "<tbody>\n",
       "\t<tr><td>cleavage</td><td> 17468</td></tr>\n",
       "\t<tr><td>sORF    </td><td>206965</td></tr>\n",
       "</tbody>\n",
       "</table>\n"
      ],
      "text/latex": [
       "A tibble: 2 × 2\n",
       "\\begin{tabular}{ll}\n",
       " peptide\\_type & n\\\\\n",
       " <chr> & <int>\\\\\n",
       "\\hline\n",
       "\t cleavage &  17468\\\\\n",
       "\t sORF     & 206965\\\\\n",
       "\\end{tabular}\n"
      ],
      "text/markdown": [
       "\n",
       "A tibble: 2 × 2\n",
       "\n",
       "| peptide_type &lt;chr&gt; | n &lt;int&gt; |\n",
       "|---|---|\n",
       "| cleavage |  17468 |\n",
       "| sORF     | 206965 |\n",
       "\n"
      ],
      "text/plain": [
       "  peptide_type n     \n",
       "1 cleavage      17468\n",
       "2 sORF         206965"
      ]
     },
     "metadata": {},
     "output_type": "display_data"
    }
   ],
   "source": [
    "peptigate_predictions_distinct %>%\n",
    "  group_by(peptide_type) %>%\n",
    "  tally()"
   ]
  },
  {
   "cell_type": "code",
   "execution_count": 23,
   "id": "cdb0dcaa-b945-4713-bd20-ac165e216ef7",
   "metadata": {},
   "outputs": [
    {
     "data": {
      "text/html": [
       "224433"
      ],
      "text/latex": [
       "224433"
      ],
      "text/markdown": [
       "224433"
      ],
      "text/plain": [
       "[1] 224433"
      ]
     },
     "metadata": {},
     "output_type": "display_data"
    }
   ],
   "source": [
    "nrow(peptigate_predictions_distinct)"
   ]
  },
  {
   "cell_type": "code",
   "execution_count": 9,
   "id": "65f0cf18-5658-41c6-9942-62ba80e3206f",
   "metadata": {},
   "outputs": [
    {
     "data": {
      "text/html": [
       "224433"
      ],
      "text/latex": [
       "224433"
      ],
      "text/markdown": [
       "224433"
      ],
      "text/plain": [
       "[1] 224433"
      ]
     },
     "metadata": {},
     "output_type": "display_data"
    }
   ],
   "source": [
    "length(unique(peptigate_predictions_distinct$protein_sequence))"
   ]
  },
  {
   "cell_type": "code",
   "execution_count": 41,
   "id": "02e9c0e3-efca-4117-8e85-10e6293d9122",
   "metadata": {},
   "outputs": [],
   "source": [
    "peptigate_annotations <- Sys.glob(\"outputs/tsa_tick_sg_transcriptomes/*/predictions/peptide_annotations.tsv\") %>%\n",
    "  map_dfr(read_tsv, show_col_types = F)"
   ]
  },
  {
   "cell_type": "code",
   "execution_count": 48,
   "id": "bdab573e-3630-4fe3-b488-2d5a53646a90",
   "metadata": {},
   "outputs": [],
   "source": [
    "peptigate_all_distinct <- left_join(peptigate_predictions_distinct, peptigate_annotations_distinct,\n",
    "                                    by = c(\"protein_sequence\" = \"sequence\"))"
   ]
  },
  {
   "cell_type": "code",
   "execution_count": 53,
   "id": "32d2e65f-2542-45d9-8f95-2bc10c7f3d39",
   "metadata": {},
   "outputs": [
    {
     "data": {
      "text/html": [
       "<table class=\"dataframe\">\n",
       "<caption>A grouped_df: 4 × 3</caption>\n",
       "<thead>\n",
       "\t<tr><th scope=col>peptide_type</th><th scope=col>peptipedia_blast_result</th><th scope=col>n</th></tr>\n",
       "\t<tr><th scope=col>&lt;chr&gt;</th><th scope=col>&lt;chr&gt;</th><th scope=col>&lt;int&gt;</th></tr>\n",
       "</thead>\n",
       "<tbody>\n",
       "\t<tr><td>cleavage</td><td>blast hit   </td><td>   245</td></tr>\n",
       "\t<tr><td>cleavage</td><td>no blast hit</td><td> 17223</td></tr>\n",
       "\t<tr><td>sORF    </td><td>blast hit   </td><td>  1697</td></tr>\n",
       "\t<tr><td>sORF    </td><td>no blast hit</td><td>205268</td></tr>\n",
       "</tbody>\n",
       "</table>\n"
      ],
      "text/latex": [
       "A grouped\\_df: 4 × 3\n",
       "\\begin{tabular}{lll}\n",
       " peptide\\_type & peptipedia\\_blast\\_result & n\\\\\n",
       " <chr> & <chr> & <int>\\\\\n",
       "\\hline\n",
       "\t cleavage & blast hit    &    245\\\\\n",
       "\t cleavage & no blast hit &  17223\\\\\n",
       "\t sORF     & blast hit    &   1697\\\\\n",
       "\t sORF     & no blast hit & 205268\\\\\n",
       "\\end{tabular}\n"
      ],
      "text/markdown": [
       "\n",
       "A grouped_df: 4 × 3\n",
       "\n",
       "| peptide_type &lt;chr&gt; | peptipedia_blast_result &lt;chr&gt; | n &lt;int&gt; |\n",
       "|---|---|---|\n",
       "| cleavage | blast hit    |    245 |\n",
       "| cleavage | no blast hit |  17223 |\n",
       "| sORF     | blast hit    |   1697 |\n",
       "| sORF     | no blast hit | 205268 |\n",
       "\n"
      ],
      "text/plain": [
       "  peptide_type peptipedia_blast_result n     \n",
       "1 cleavage     blast hit                  245\n",
       "2 cleavage     no blast hit             17223\n",
       "3 sORF         blast hit                 1697\n",
       "4 sORF         no blast hit            205268"
      ]
     },
     "metadata": {},
     "output_type": "display_data"
    }
   ],
   "source": [
    "peptigate_all_distinct %>%\n",
    " group_by(peptide_type, peptipedia_blast_result) %>%\n",
    " tally()"
   ]
  },
  {
   "cell_type": "code",
   "execution_count": 55,
   "id": "3936718a-cd4c-4b0b-a1e7-5ef0a66ff30b",
   "metadata": {},
   "outputs": [
    {
     "data": {
      "text/html": [
       "<style>\n",
       ".list-inline {list-style: none; margin:0; padding: 0}\n",
       ".list-inline>li {display: inline-block}\n",
       ".list-inline>li:not(:last-child)::after {content: \"\\00b7\"; padding: 0 .5ex}\n",
       "</style>\n",
       "<ol class=list-inline><li>'peptide_type'</li><li>'protein_sequence'</li><li>'peptipedia_blast_sseqid'</li><li>'peptipedia_blast_full_sseq'</li><li>'peptipedia_blast_pident'</li><li>'peptipedia_blast_length'</li><li>'peptipedia_blast_qlen'</li><li>'peptipedia_blast_slen'</li><li>'peptipedia_blast_mismatch'</li><li>'peptipedia_blast_gapopen'</li><li>'peptipedia_blast_qstart'</li><li>'peptipedia_blast_qend'</li><li>'peptipedia_blast_sstart'</li><li>'peptipedia_blast_send'</li><li>'peptipedia_blast_evalue'</li><li>'peptipedia_blast_bitscore'</li><li>'peptipedia_num_hits'</li><li>'AB'</li><li>'ACE'</li><li>'ACP'</li><li>'AF'</li><li>'AMAP'</li><li>'AMP'</li><li>'AOX'</li><li>'APP'</li><li>'AV'</li><li>'BBP'</li><li>'DPPIV'</li><li>'MRSA'</li><li>'Neuro'</li><li>'QS'</li><li>'TOX'</li><li>'TTCA'</li><li>'aliphatic_index'</li><li>'boman_index'</li><li>'charge'</li><li>'hydrophobicity'</li><li>'instability_index'</li><li>'isoelectric_point'</li><li>'molecular_weight'</li><li>'pd1_residue_volume'</li><li>'pd2_hydrophilicity'</li><li>'z1_lipophilicity'</li><li>'z2_steric_bulk_or_polarizability'</li><li>'z3_polarity_or_charge'</li><li>'z4_electronegativity_etc'</li><li>'z5_electronegativity_etc'</li><li>'peptipedia_blast_result'</li></ol>\n"
      ],
      "text/latex": [
       "\\begin{enumerate*}\n",
       "\\item 'peptide\\_type'\n",
       "\\item 'protein\\_sequence'\n",
       "\\item 'peptipedia\\_blast\\_sseqid'\n",
       "\\item 'peptipedia\\_blast\\_full\\_sseq'\n",
       "\\item 'peptipedia\\_blast\\_pident'\n",
       "\\item 'peptipedia\\_blast\\_length'\n",
       "\\item 'peptipedia\\_blast\\_qlen'\n",
       "\\item 'peptipedia\\_blast\\_slen'\n",
       "\\item 'peptipedia\\_blast\\_mismatch'\n",
       "\\item 'peptipedia\\_blast\\_gapopen'\n",
       "\\item 'peptipedia\\_blast\\_qstart'\n",
       "\\item 'peptipedia\\_blast\\_qend'\n",
       "\\item 'peptipedia\\_blast\\_sstart'\n",
       "\\item 'peptipedia\\_blast\\_send'\n",
       "\\item 'peptipedia\\_blast\\_evalue'\n",
       "\\item 'peptipedia\\_blast\\_bitscore'\n",
       "\\item 'peptipedia\\_num\\_hits'\n",
       "\\item 'AB'\n",
       "\\item 'ACE'\n",
       "\\item 'ACP'\n",
       "\\item 'AF'\n",
       "\\item 'AMAP'\n",
       "\\item 'AMP'\n",
       "\\item 'AOX'\n",
       "\\item 'APP'\n",
       "\\item 'AV'\n",
       "\\item 'BBP'\n",
       "\\item 'DPPIV'\n",
       "\\item 'MRSA'\n",
       "\\item 'Neuro'\n",
       "\\item 'QS'\n",
       "\\item 'TOX'\n",
       "\\item 'TTCA'\n",
       "\\item 'aliphatic\\_index'\n",
       "\\item 'boman\\_index'\n",
       "\\item 'charge'\n",
       "\\item 'hydrophobicity'\n",
       "\\item 'instability\\_index'\n",
       "\\item 'isoelectric\\_point'\n",
       "\\item 'molecular\\_weight'\n",
       "\\item 'pd1\\_residue\\_volume'\n",
       "\\item 'pd2\\_hydrophilicity'\n",
       "\\item 'z1\\_lipophilicity'\n",
       "\\item 'z2\\_steric\\_bulk\\_or\\_polarizability'\n",
       "\\item 'z3\\_polarity\\_or\\_charge'\n",
       "\\item 'z4\\_electronegativity\\_etc'\n",
       "\\item 'z5\\_electronegativity\\_etc'\n",
       "\\item 'peptipedia\\_blast\\_result'\n",
       "\\end{enumerate*}\n"
      ],
      "text/markdown": [
       "1. 'peptide_type'\n",
       "2. 'protein_sequence'\n",
       "3. 'peptipedia_blast_sseqid'\n",
       "4. 'peptipedia_blast_full_sseq'\n",
       "5. 'peptipedia_blast_pident'\n",
       "6. 'peptipedia_blast_length'\n",
       "7. 'peptipedia_blast_qlen'\n",
       "8. 'peptipedia_blast_slen'\n",
       "9. 'peptipedia_blast_mismatch'\n",
       "10. 'peptipedia_blast_gapopen'\n",
       "11. 'peptipedia_blast_qstart'\n",
       "12. 'peptipedia_blast_qend'\n",
       "13. 'peptipedia_blast_sstart'\n",
       "14. 'peptipedia_blast_send'\n",
       "15. 'peptipedia_blast_evalue'\n",
       "16. 'peptipedia_blast_bitscore'\n",
       "17. 'peptipedia_num_hits'\n",
       "18. 'AB'\n",
       "19. 'ACE'\n",
       "20. 'ACP'\n",
       "21. 'AF'\n",
       "22. 'AMAP'\n",
       "23. 'AMP'\n",
       "24. 'AOX'\n",
       "25. 'APP'\n",
       "26. 'AV'\n",
       "27. 'BBP'\n",
       "28. 'DPPIV'\n",
       "29. 'MRSA'\n",
       "30. 'Neuro'\n",
       "31. 'QS'\n",
       "32. 'TOX'\n",
       "33. 'TTCA'\n",
       "34. 'aliphatic_index'\n",
       "35. 'boman_index'\n",
       "36. 'charge'\n",
       "37. 'hydrophobicity'\n",
       "38. 'instability_index'\n",
       "39. 'isoelectric_point'\n",
       "40. 'molecular_weight'\n",
       "41. 'pd1_residue_volume'\n",
       "42. 'pd2_hydrophilicity'\n",
       "43. 'z1_lipophilicity'\n",
       "44. 'z2_steric_bulk_or_polarizability'\n",
       "45. 'z3_polarity_or_charge'\n",
       "46. 'z4_electronegativity_etc'\n",
       "47. 'z5_electronegativity_etc'\n",
       "48. 'peptipedia_blast_result'\n",
       "\n",
       "\n"
      ],
      "text/plain": [
       " [1] \"peptide_type\"                     \"protein_sequence\"                \n",
       " [3] \"peptipedia_blast_sseqid\"          \"peptipedia_blast_full_sseq\"      \n",
       " [5] \"peptipedia_blast_pident\"          \"peptipedia_blast_length\"         \n",
       " [7] \"peptipedia_blast_qlen\"            \"peptipedia_blast_slen\"           \n",
       " [9] \"peptipedia_blast_mismatch\"        \"peptipedia_blast_gapopen\"        \n",
       "[11] \"peptipedia_blast_qstart\"          \"peptipedia_blast_qend\"           \n",
       "[13] \"peptipedia_blast_sstart\"          \"peptipedia_blast_send\"           \n",
       "[15] \"peptipedia_blast_evalue\"          \"peptipedia_blast_bitscore\"       \n",
       "[17] \"peptipedia_num_hits\"              \"AB\"                              \n",
       "[19] \"ACE\"                              \"ACP\"                             \n",
       "[21] \"AF\"                               \"AMAP\"                            \n",
       "[23] \"AMP\"                              \"AOX\"                             \n",
       "[25] \"APP\"                              \"AV\"                              \n",
       "[27] \"BBP\"                              \"DPPIV\"                           \n",
       "[29] \"MRSA\"                             \"Neuro\"                           \n",
       "[31] \"QS\"                               \"TOX\"                             \n",
       "[33] \"TTCA\"                             \"aliphatic_index\"                 \n",
       "[35] \"boman_index\"                      \"charge\"                          \n",
       "[37] \"hydrophobicity\"                   \"instability_index\"               \n",
       "[39] \"isoelectric_point\"                \"molecular_weight\"                \n",
       "[41] \"pd1_residue_volume\"               \"pd2_hydrophilicity\"              \n",
       "[43] \"z1_lipophilicity\"                 \"z2_steric_bulk_or_polarizability\"\n",
       "[45] \"z3_polarity_or_charge\"            \"z4_electronegativity_etc\"        \n",
       "[47] \"z5_electronegativity_etc\"         \"peptipedia_blast_result\"         "
      ]
     },
     "metadata": {},
     "output_type": "display_data"
    }
   ],
   "source": [
    "colnames(peptigate_all_distinct)"
   ]
  },
  {
   "cell_type": "code",
   "execution_count": 56,
   "id": "b1fb4d68-a2c9-4589-b085-3e0ea9e359eb",
   "metadata": {},
   "outputs": [
    {
     "data": {
      "text/html": [
       "<table class=\"dataframe\">\n",
       "<caption>A tibble: 3 × 2</caption>\n",
       "<thead>\n",
       "\t<tr><th scope=col>prediction_tool</th><th scope=col>n</th></tr>\n",
       "\t<tr><th scope=col>&lt;chr&gt;</th><th scope=col>&lt;int&gt;</th></tr>\n",
       "</thead>\n",
       "<tbody>\n",
       "\t<tr><td>deeppeptide </td><td> 14324</td></tr>\n",
       "\t<tr><td>nlpprecursor</td><td>  3144</td></tr>\n",
       "\t<tr><td>plmutils    </td><td>206965</td></tr>\n",
       "</tbody>\n",
       "</table>\n"
      ],
      "text/latex": [
       "A tibble: 3 × 2\n",
       "\\begin{tabular}{ll}\n",
       " prediction\\_tool & n\\\\\n",
       " <chr> & <int>\\\\\n",
       "\\hline\n",
       "\t deeppeptide  &  14324\\\\\n",
       "\t nlpprecursor &   3144\\\\\n",
       "\t plmutils     & 206965\\\\\n",
       "\\end{tabular}\n"
      ],
      "text/markdown": [
       "\n",
       "A tibble: 3 × 2\n",
       "\n",
       "| prediction_tool &lt;chr&gt; | n &lt;int&gt; |\n",
       "|---|---|\n",
       "| deeppeptide  |  14324 |\n",
       "| nlpprecursor |   3144 |\n",
       "| plmutils     | 206965 |\n",
       "\n"
      ],
      "text/plain": [
       "  prediction_tool n     \n",
       "1 deeppeptide      14324\n",
       "2 nlpprecursor      3144\n",
       "3 plmutils        206965"
      ]
     },
     "metadata": {},
     "output_type": "display_data"
    }
   ],
   "source": [
    "# if peptide was predicted by multiple tools, randomly select first sequence and tally how many peptides each tool predicted\n",
    "peptigate_predictions %>%\n",
    "  group_by(protein_sequence) %>%\n",
    "  slice_head(n = 1) %>%\n",
    "  ungroup() %>%\n",
    "  group_by(prediction_tool) %>%\n",
    "  tally()"
   ]
  },
  {
   "cell_type": "code",
   "execution_count": 57,
   "id": "b0b0dfdf-1703-43af-bf78-be72de477be2",
   "metadata": {},
   "outputs": [
    {
     "data": {
      "text/plain": [
       "R version 4.3.3 (2024-02-29)\n",
       "Platform: x86_64-apple-darwin13.4.0 (64-bit)\n",
       "Running under: macOS Big Sur ... 10.16\n",
       "\n",
       "Matrix products: default\n",
       "BLAS/LAPACK: /Users/taylorreiter/miniconda3/envs/tidyjupyter/lib/libopenblasp-r0.3.26.dylib;  LAPACK version 3.12.0\n",
       "\n",
       "locale:\n",
       "[1] en_US.UTF-8/en_US.UTF-8/en_US.UTF-8/C/en_US.UTF-8/en_US.UTF-8\n",
       "\n",
       "time zone: America/New_York\n",
       "tzcode source: internal\n",
       "\n",
       "attached base packages:\n",
       "[1] stats     graphics  grDevices utils     datasets  methods   base     \n",
       "\n",
       "other attached packages:\n",
       " [1] lubridate_1.9.3 forcats_1.0.0   stringr_1.5.1   dplyr_1.1.4    \n",
       " [5] purrr_1.0.2     readr_2.1.5     tidyr_1.3.1     tibble_3.2.1   \n",
       " [9] ggplot2_3.5.0   tidyverse_2.0.0\n",
       "\n",
       "loaded via a namespace (and not attached):\n",
       " [1] bit_4.0.5        gtable_0.3.4     jsonlite_1.8.8   compiler_4.3.3  \n",
       " [5] crayon_1.5.2     tidyselect_1.2.0 IRdisplay_1.1    parallel_4.3.3  \n",
       " [9] scales_1.3.0     uuid_1.2-0       fastmap_1.1.1    IRkernel_1.3.2  \n",
       "[13] R6_2.5.1         generics_0.1.3   munsell_0.5.1    pillar_1.9.0    \n",
       "[17] tzdb_0.4.0       rlang_1.1.3      utf8_1.2.4       stringi_1.8.3   \n",
       "[21] repr_1.1.7       bit64_4.0.5      timechange_0.3.0 cli_3.6.2       \n",
       "[25] withr_3.0.0      magrittr_2.0.3   digest_0.6.35    grid_4.3.3      \n",
       "[29] vroom_1.6.5      base64enc_0.1-3  hms_1.1.3        pbdZMQ_0.3-11   \n",
       "[33] lifecycle_1.0.4  vctrs_0.6.5      evaluate_0.23    glue_1.7.0      \n",
       "[37] fansi_1.0.6      colorspace_2.1-0 tools_4.3.3      pkgconfig_2.0.3 \n",
       "[41] htmltools_0.5.8 "
      ]
     },
     "metadata": {},
     "output_type": "display_data"
    }
   ],
   "source": [
    "sessionInfo()"
   ]
  },
  {
   "cell_type": "code",
   "execution_count": null,
   "id": "393e7149-a376-4b4a-9ffe-865895daeda1",
   "metadata": {},
   "outputs": [],
   "source": []
  }
 ],
 "metadata": {
  "kernelspec": {
   "display_name": "R",
   "language": "R",
   "name": "ir"
  },
  "language_info": {
   "codemirror_mode": "r",
   "file_extension": ".r",
   "mimetype": "text/x-r-source",
   "name": "R",
   "pygments_lexer": "r",
   "version": "4.3.3"
  }
 },
 "nbformat": 4,
 "nbformat_minor": 5
}
