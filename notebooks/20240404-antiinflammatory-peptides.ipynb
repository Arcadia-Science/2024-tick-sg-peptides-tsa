{
 "cells": [
  {
   "cell_type": "markdown",
   "id": "241f4846-1fcc-47ac-a222-d5ab926cfe86",
   "metadata": {},
   "source": [
    "# Anti-inflammatory peptide discovery\n",
    "\n",
    "This notebook analyzes the peptides that we predicted have anti-inflammatory bioactivity using an AutoPeptideML binary classifier.\n",
    "It joins these predictions to other metadata to see if there is any additional signals that we can leverage to know that the anti-inflammatory predictions are accurate."
   ]
  },
  {
   "cell_type": "markdown",
   "id": "aa566d6a-36d7-442e-b698-a3d2d1728b64",
   "metadata": {},
   "source": [
    "## Notebook set up"
   ]
  },
  {
   "cell_type": "code",
   "execution_count": 1,
   "id": "70189ac7-6ada-4167-8450-3cee2a9328de",
   "metadata": {},
   "outputs": [
    {
     "name": "stderr",
     "output_type": "stream",
     "text": [
      "── \u001b[1mAttaching core tidyverse packages\u001b[22m ────────────────────────────────────────────────────────────────────────────────────────── tidyverse 2.0.0 ──\n",
      "\u001b[32m✔\u001b[39m \u001b[34mdplyr    \u001b[39m 1.1.4     \u001b[32m✔\u001b[39m \u001b[34mreadr    \u001b[39m 2.1.5\n",
      "\u001b[32m✔\u001b[39m \u001b[34mforcats  \u001b[39m 1.0.0     \u001b[32m✔\u001b[39m \u001b[34mstringr  \u001b[39m 1.5.1\n",
      "\u001b[32m✔\u001b[39m \u001b[34mggplot2  \u001b[39m 3.5.0     \u001b[32m✔\u001b[39m \u001b[34mtibble   \u001b[39m 3.2.1\n",
      "\u001b[32m✔\u001b[39m \u001b[34mlubridate\u001b[39m 1.9.3     \u001b[32m✔\u001b[39m \u001b[34mtidyr    \u001b[39m 1.3.1\n",
      "\u001b[32m✔\u001b[39m \u001b[34mpurrr    \u001b[39m 1.0.2     \n",
      "── \u001b[1mConflicts\u001b[22m ──────────────────────────────────────────────────────────────────────────────────────────────────────────── tidyverse_conflicts() ──\n",
      "\u001b[31m✖\u001b[39m \u001b[34mdplyr\u001b[39m::\u001b[32mfilter()\u001b[39m masks \u001b[34mstats\u001b[39m::filter()\n",
      "\u001b[31m✖\u001b[39m \u001b[34mdplyr\u001b[39m::\u001b[32mlag()\u001b[39m    masks \u001b[34mstats\u001b[39m::lag()\n",
      "\u001b[36mℹ\u001b[39m Use the conflicted package (\u001b[3m\u001b[34m<http://conflicted.r-lib.org/>\u001b[39m\u001b[23m) to force all conflicts to become errors\n"
     ]
    }
   ],
   "source": [
    "library(tidyverse)"
   ]
  },
  {
   "cell_type": "code",
   "execution_count": 2,
   "id": "bc9f3aa7-c6a8-4198-8145-eb6a46a91d1c",
   "metadata": {},
   "outputs": [],
   "source": [
    "setwd(\"..\")"
   ]
  },
  {
   "cell_type": "markdown",
   "id": "6d83f91f-7f18-4e9e-9f16-1ca58c2fb09a",
   "metadata": {},
   "source": [
    "## Read in data"
   ]
  },
  {
   "cell_type": "code",
   "execution_count": 3,
   "id": "af11a616-101e-4a1a-9e38-10c663c72186",
   "metadata": {},
   "outputs": [],
   "source": [
    "# read in BLASTp results for peptigate predictions vs. 5 known antipruritic peptides\n",
    "antiinflammatory <- read_tsv(\"outputs/analysis/predict_antiinflammatory/autopeptideml_antiinflammatory_predictions.tsv\",\n",
    "                             show_col_types = FALSE)\n",
    "\n",
    "# filter to peptides that had a score of 1\n",
    "antiinflammatory1 <- antiinflammatory  %>%\n",
    " filter(antiinflammatory == 1)"
   ]
  },
  {
   "cell_type": "code",
   "execution_count": 4,
   "id": "4d966ff1-95c5-4642-80f8-1f0305dba104",
   "metadata": {},
   "outputs": [
    {
     "data": {
      "text/html": [
       "<table class=\"dataframe\">\n",
       "<caption>A tibble: 6 × 3</caption>\n",
       "<thead>\n",
       "\t<tr><th scope=col>peptide_id</th><th scope=col>sequence</th><th scope=col>antiinflammatory</th></tr>\n",
       "\t<tr><th scope=col>&lt;chr&gt;</th><th scope=col>&lt;chr&gt;</th><th scope=col>&lt;dbl&gt;</th></tr>\n",
       "</thead>\n",
       "<tbody>\n",
       "\t<tr><td>Transcript_997365.p1_start99_end107 </td><td>ATITPKVVR                                                                          </td><td>1</td></tr>\n",
       "\t<tr><td>Transcript_324418                   </td><td>TYELLRDAYGNETLPWARVFEWHKRFVSGRMPVEDNTRQGRPLTSRKENNADRIRETIQQDHTITVCMLSDALQFPIFFKPQF</td><td>1</td></tr>\n",
       "\t<tr><td>Transcript_993171.p2_start124_end151</td><td>SEVIEGEVTEIEIDRFSNRQIDPSSFSS                                                       </td><td>1</td></tr>\n",
       "\t<tr><td>Transcript_992481.p4_start84_end105 </td><td>SALLEGESDKEHSNESSSDDAE                                                             </td><td>1</td></tr>\n",
       "\t<tr><td>GBZX01002961.1                      </td><td>MDSDVIRDGRMIDVVDSKWREDKLPDEDIAVPVMELPDPEPDNSNIHETLKEQEQKWTDLALNRLHEPPTSTLPN        </td><td>1</td></tr>\n",
       "\t<tr><td>GEFI01017722.1                      </td><td>LSKKMNLDICDLAKRIFKEDDVRAKTIGTKSSTRP                                                </td><td>1</td></tr>\n",
       "</tbody>\n",
       "</table>\n"
      ],
      "text/latex": [
       "A tibble: 6 × 3\n",
       "\\begin{tabular}{lll}\n",
       " peptide\\_id & sequence & antiinflammatory\\\\\n",
       " <chr> & <chr> & <dbl>\\\\\n",
       "\\hline\n",
       "\t Transcript\\_997365.p1\\_start99\\_end107  & ATITPKVVR                                                                           & 1\\\\\n",
       "\t Transcript\\_324418                    & TYELLRDAYGNETLPWARVFEWHKRFVSGRMPVEDNTRQGRPLTSRKENNADRIRETIQQDHTITVCMLSDALQFPIFFKPQF & 1\\\\\n",
       "\t Transcript\\_993171.p2\\_start124\\_end151 & SEVIEGEVTEIEIDRFSNRQIDPSSFSS                                                        & 1\\\\\n",
       "\t Transcript\\_992481.p4\\_start84\\_end105  & SALLEGESDKEHSNESSSDDAE                                                              & 1\\\\\n",
       "\t GBZX01002961.1                       & MDSDVIRDGRMIDVVDSKWREDKLPDEDIAVPVMELPDPEPDNSNIHETLKEQEQKWTDLALNRLHEPPTSTLPN         & 1\\\\\n",
       "\t GEFI01017722.1                       & LSKKMNLDICDLAKRIFKEDDVRAKTIGTKSSTRP                                                 & 1\\\\\n",
       "\\end{tabular}\n"
      ],
      "text/markdown": [
       "\n",
       "A tibble: 6 × 3\n",
       "\n",
       "| peptide_id &lt;chr&gt; | sequence &lt;chr&gt; | antiinflammatory &lt;dbl&gt; |\n",
       "|---|---|---|\n",
       "| Transcript_997365.p1_start99_end107  | ATITPKVVR                                                                           | 1 |\n",
       "| Transcript_324418                    | TYELLRDAYGNETLPWARVFEWHKRFVSGRMPVEDNTRQGRPLTSRKENNADRIRETIQQDHTITVCMLSDALQFPIFFKPQF | 1 |\n",
       "| Transcript_993171.p2_start124_end151 | SEVIEGEVTEIEIDRFSNRQIDPSSFSS                                                        | 1 |\n",
       "| Transcript_992481.p4_start84_end105  | SALLEGESDKEHSNESSSDDAE                                                              | 1 |\n",
       "| GBZX01002961.1                       | MDSDVIRDGRMIDVVDSKWREDKLPDEDIAVPVMELPDPEPDNSNIHETLKEQEQKWTDLALNRLHEPPTSTLPN         | 1 |\n",
       "| GEFI01017722.1                       | LSKKMNLDICDLAKRIFKEDDVRAKTIGTKSSTRP                                                 | 1 |\n",
       "\n"
      ],
      "text/plain": [
       "  peptide_id                          \n",
       "1 Transcript_997365.p1_start99_end107 \n",
       "2 Transcript_324418                   \n",
       "3 Transcript_993171.p2_start124_end151\n",
       "4 Transcript_992481.p4_start84_end105 \n",
       "5 GBZX01002961.1                      \n",
       "6 GEFI01017722.1                      \n",
       "  sequence                                                                           \n",
       "1 ATITPKVVR                                                                          \n",
       "2 TYELLRDAYGNETLPWARVFEWHKRFVSGRMPVEDNTRQGRPLTSRKENNADRIRETIQQDHTITVCMLSDALQFPIFFKPQF\n",
       "3 SEVIEGEVTEIEIDRFSNRQIDPSSFSS                                                       \n",
       "4 SALLEGESDKEHSNESSSDDAE                                                             \n",
       "5 MDSDVIRDGRMIDVVDSKWREDKLPDEDIAVPVMELPDPEPDNSNIHETLKEQEQKWTDLALNRLHEPPTSTLPN        \n",
       "6 LSKKMNLDICDLAKRIFKEDDVRAKTIGTKSSTRP                                                \n",
       "  antiinflammatory\n",
       "1 1               \n",
       "2 1               \n",
       "3 1               \n",
       "4 1               \n",
       "5 1               \n",
       "6 1               "
      ]
     },
     "metadata": {},
     "output_type": "display_data"
    }
   ],
   "source": [
    "head(antiinflammatory1)"
   ]
  },
  {
   "cell_type": "code",
   "execution_count": 5,
   "id": "f8ac75f2-1b20-4d87-9050-24df743a3c6b",
   "metadata": {},
   "outputs": [
    {
     "data": {
      "text/html": [
       "7331"
      ],
      "text/latex": [
       "7331"
      ],
      "text/markdown": [
       "7331"
      ],
      "text/plain": [
       "[1] 7331"
      ]
     },
     "metadata": {},
     "output_type": "display_data"
    },
    {
     "data": {
      "text/html": [
       "6142"
      ],
      "text/latex": [
       "6142"
      ],
      "text/markdown": [
       "6142"
      ],
      "text/plain": [
       "[1] 6142"
      ]
     },
     "metadata": {},
     "output_type": "display_data"
    }
   ],
   "source": [
    "nrow(antiinflammatory1)\n",
    "length(unique(antiinflammatory1$sequence))"
   ]
  },
  {
   "cell_type": "code",
   "execution_count": 6,
   "id": "c72e8520-f580-4c30-9a96-6914f8b904a7",
   "metadata": {},
   "outputs": [],
   "source": [
    "# read in BLASTp results for peptigate vs. known human peptides\n",
    "matching_human <- read_tsv(\"outputs/analysis/compare_human/humanpeptideatlas_blastp_matches.tsv\", show_col_types = FALSE) %>%\n",
    "  group_by(qseqid) %>%\n",
    "  slice_max(bitscore) %>%\n",
    "  slice_min(evalue) %>%\n",
    "  slice_head(n = 1) %>%\n",
    "  ungroup() %>%\n",
    "  rename_with(~paste0(\"humanpeptideatlas_blast_\", .x))"
   ]
  },
  {
   "cell_type": "code",
   "execution_count": 7,
   "id": "eb8f36a2-e9cc-480d-9f7b-f81e4d72e801",
   "metadata": {},
   "outputs": [],
   "source": [
    "# read in peptigate results\n",
    "peptigate <- Sys.glob(\"outputs/tsa_tick_sg_transcriptomes/*/predictions/peptide_predictions.tsv\") %>%\n",
    "  map_dfr(read_tsv, show_col_types = FALSE)  %>%\n",
    "  rename_with(~paste0(\"peptigate_\", .x))"
   ]
  },
  {
   "cell_type": "code",
   "execution_count": 8,
   "id": "514b1c7a-8b88-462f-9965-be4b05dad926",
   "metadata": {},
   "outputs": [],
   "source": [
    "# read in peptigate results\n",
    "peptigate_annotations <- Sys.glob(\"outputs/tsa_tick_sg_transcriptomes/*/predictions/peptide_annotations.tsv\") %>%\n",
    "  map_dfr(read_tsv, show_col_types = FALSE)  %>%\n",
    "  rename_with(~paste0(\"peptigate_\", .x))"
   ]
  },
  {
   "cell_type": "code",
   "execution_count": 9,
   "id": "40a65135-79d4-4ee8-b909-8ad6f1185f29",
   "metadata": {},
   "outputs": [],
   "source": [
    "# read in cleavage peptide parent protein annotations by eggnog\n",
    "eggnog <- read_tsv(\"outputs/analysis/annotate_cleavage_parent_proteins/eggnog.emapper.annotations\",\n",
    "                   comment = \"##\", show_col_types = FALSE) %>%\n",
    "  rename(query = `#query`) %>%\n",
    "  group_by(query) %>%\n",
    "  slice_min(evalue) %>%\n",
    "  slice_max(score) %>%\n",
    "  slice_head(n = 1) %>%\n",
    "  ungroup() %>%\n",
    "  rename_with(~paste0(\"parent_protein_eggnog_\", .x))"
   ]
  },
  {
   "cell_type": "code",
   "execution_count": 10,
   "id": "455d688b-47e3-4156-8b0a-b01cc46bcba6",
   "metadata": {},
   "outputs": [],
   "source": [
    "# read in cleavage peptide parent protein annotations by kegg\n",
    "kegg <- read_tsv(\"outputs/analysis/annotate_cleavage_parent_proteins/kofamscan.tsv\", show_col_types = FALSE,\n",
    "                 skip =2, col_names = c(\"tmp\", \"gene_name\", \"KO\", \"threshold\", \"score\", \"evalue\", \"KO_definition\")) %>%\n",
    "  filter(score >= threshold) %>%\n",
    "  select(-tmp) %>%\n",
    "  # select best match \n",
    "  group_by(gene_name) %>%\n",
    "  slice_max(score) %>%\n",
    "  ungroup() %>%\n",
    "  rename_with(~paste0(\"parent_protein_kegg_\", .x))"
   ]
  },
  {
   "cell_type": "code",
   "execution_count": 11,
   "id": "61a0047b-52e5-4820-8e30-bc21c718c086",
   "metadata": {},
   "outputs": [],
   "source": [
    "# read in clustering information\n",
    "clustering <- read_tsv(\"outputs/analysis/clustering/all_peptides_0.8_cluster.tsv\",\n",
    "                       show_col_types = FALSE,\n",
    "                       col_names = c(\"mmseqs2_representative_sequence\",\n",
    "                                     \"mmseqs2_cluster_member\")) %>%\n",
    "  mutate(mmseqs2_source_representative_txome = ifelse(grepl(pattern = \"Transcript_\", x = mmseqs2_representative_sequence), \n",
    "                                                      \"amblyommaamericanum\",\n",
    "                                                      str_extract(mmseqs2_representative_sequence, \"G.*?01\")),\n",
    "         mmseqs2_source_cluster_member_txome = ifelse(grepl(pattern = \"Transcript_\", x = mmseqs2_cluster_member), \n",
    "                                                      \"amblyommaamericanum\",\n",
    "                                                      str_extract(mmseqs2_cluster_member, \"G.*?01\")))"
   ]
  },
  {
   "cell_type": "code",
   "execution_count": 12,
   "id": "2d7c12ce-3cea-4d8c-9f62-c64626bb9ba8",
   "metadata": {},
   "outputs": [],
   "source": [
    "# summarize the cluster sizes and whether the clusters have members from multiple transcriptomes\n",
    "cluster_summary <- clustering %>%\n",
    "  group_by(mmseqs2_representative_sequence) %>%\n",
    "  mutate(mmseqs2_cluster_size = n(),\n",
    "         mmseqs2_cluster_same_txome_count = sum(mmseqs2_source_representative_txome == mmseqs2_source_cluster_member_txome),\n",
    "         mmseqs2_cluster_same_txome_fraction = mmseqs2_cluster_same_txome_count / mmseqs2_cluster_size) %>%\n",
    "  ungroup() %>%\n",
    "  select(mmseqs2_representative_sequence, mmseqs2_cluster_size, mmseqs2_cluster_same_txome_count, mmseqs2_cluster_same_txome_fraction) %>%\n",
    "  distinct()"
   ]
  },
  {
   "cell_type": "code",
   "execution_count": 13,
   "id": "b3190d61-d5f4-45a3-b827-b1c9ad366798",
   "metadata": {},
   "outputs": [
    {
     "name": "stderr",
     "output_type": "stream",
     "text": [
      "\u001b[1m\u001b[22mNew names:\n",
      "\u001b[36m•\u001b[39m `` -> `...12`\n"
     ]
    }
   ],
   "source": [
    "# read in transcriptome: species metadata\n",
    "aa <- data.frame(tsa_accession = \"amblyommaamericanum\",\n",
    "                 species = \"Amblyomma americanum\",\n",
    "                 bioproject = \"PRJNA834823\")\n",
    "metadata <- read_csv(\"inputs/tick_sg_transcriptomes_tsa.csv\", show_col_types = FALSE)\n",
    "metadata <- bind_rows(metadata, aa) %>%\n",
    "  select(tsa_accession, species)"
   ]
  },
  {
   "cell_type": "markdown",
   "id": "139fabfa-e55e-4014-b1d5-f3efb87a78cf",
   "metadata": {},
   "source": [
    "## Combine together "
   ]
  },
  {
   "cell_type": "code",
   "execution_count": 14,
   "id": "d37d7981-592d-4c8f-84d2-8bc475a6c340",
   "metadata": {},
   "outputs": [],
   "source": [
    "antiinflammatory1 <- antiinflammatory1 %>%\n",
    "  # join with metadata so we know which species each query peptide came from\n",
    "  mutate(tsa_accession = ifelse(grepl(x = peptide_id, pattern = \"^G\"), \n",
    "                                gsub(\"(G.*?01).*\", \"\\\\1\", peptide_id),\n",
    "                                \"amblyommaamericanum\")) %>%\n",
    "  left_join(metadata, by = c(\"tsa_accession\"), relationship = \"many-to-one\") %>%\n",
    "  # join to the peptigate results table to see which tool made the prediction\n",
    "  left_join(peptigate, by = c(\"peptide_id\" = \"peptigate_peptide_id\")) %>%\n",
    "  # if the prot seq is duplicated (one is I. ricinus, one in A. americanum),\n",
    "  # just pick the first sequence\n",
    "  group_by(sequence) %>%\n",
    "  slice_head(n = 1) %>%\n",
    "  ungroup() %>%\n",
    "  # join to peptigate annotation data\n",
    "  left_join(peptigate_annotations, by = c(\"peptide_id\" = \"peptigate_peptide_id\")) %>%\n",
    "  # join to human data so we know whether any of these may be human mimics\n",
    "  left_join(matching_human, by = c(\"peptide_id\" = \"humanpeptideatlas_blast_qseqid\")) %>%\n",
    "  # join to eggnog parent protein annotations\n",
    "  mutate(parent_protein_id = gsub(\"_start.*\", \"\", peptide_id)) %>%\n",
    "  left_join(eggnog, by = c(\"parent_protein_id\" = \"parent_protein_eggnog_query\")) %>%\n",
    "  left_join(kegg, by = c(\"parent_protein_id\" = \"parent_protein_kegg_gene_name\")) %>%\n",
    "  # join to clustering info to see if any of the peptides are similar to each other\n",
    "  left_join(clustering, by = c(\"peptide_id\" = \"mmseqs2_cluster_member\")) %>%\n",
    "  # join to clustering summary to get cluster sizes for peptides\n",
    "  left_join(cluster_summary, by = \"mmseqs2_representative_sequence\")"
   ]
  },
  {
   "cell_type": "code",
   "execution_count": 15,
   "id": "f0cd4258-0b72-44b8-bd7e-63fe28930a25",
   "metadata": {},
   "outputs": [
    {
     "data": {
      "text/html": [
       "<table class=\"dataframe\">\n",
       "<caption>A tibble: 6 × 110</caption>\n",
       "<thead>\n",
       "\t<tr><th scope=col>peptide_id</th><th scope=col>sequence</th><th scope=col>antiinflammatory</th><th scope=col>tsa_accession</th><th scope=col>species</th><th scope=col>peptigate_start</th><th scope=col>peptigate_end</th><th scope=col>peptigate_peptide_type</th><th scope=col>peptigate_peptide_class</th><th scope=col>peptigate_prediction_tool</th><th scope=col>⋯</th><th scope=col>parent_protein_kegg_threshold</th><th scope=col>parent_protein_kegg_score</th><th scope=col>parent_protein_kegg_evalue</th><th scope=col>parent_protein_kegg_KO_definition</th><th scope=col>mmseqs2_representative_sequence</th><th scope=col>mmseqs2_source_representative_txome</th><th scope=col>mmseqs2_source_cluster_member_txome</th><th scope=col>mmseqs2_cluster_size</th><th scope=col>mmseqs2_cluster_same_txome_count</th><th scope=col>mmseqs2_cluster_same_txome_fraction</th></tr>\n",
       "\t<tr><th scope=col>&lt;chr&gt;</th><th scope=col>&lt;chr&gt;</th><th scope=col>&lt;dbl&gt;</th><th scope=col>&lt;chr&gt;</th><th scope=col>&lt;chr&gt;</th><th scope=col>&lt;dbl&gt;</th><th scope=col>&lt;dbl&gt;</th><th scope=col>&lt;chr&gt;</th><th scope=col>&lt;chr&gt;</th><th scope=col>&lt;chr&gt;</th><th scope=col>⋯</th><th scope=col>&lt;dbl&gt;</th><th scope=col>&lt;dbl&gt;</th><th scope=col>&lt;dbl&gt;</th><th scope=col>&lt;chr&gt;</th><th scope=col>&lt;chr&gt;</th><th scope=col>&lt;chr&gt;</th><th scope=col>&lt;chr&gt;</th><th scope=col>&lt;int&gt;</th><th scope=col>&lt;int&gt;</th><th scope=col>&lt;dbl&gt;</th></tr>\n",
       "</thead>\n",
       "<tbody>\n",
       "\t<tr><td>GBBM01005295.1.p1_start321_end335 </td><td>AAAGTNTLILITSLA         </td><td>1</td><td>GBBM01             </td><td>Amblyomma triste        </td><td>321</td><td>335</td><td>cleavage</td><td>Propeptide</td><td>deeppeptide</td><td>⋯</td><td>   NA</td><td>   NA</td><td>      NA</td><td>NA                                                      </td><td>GBBM01005295.1.p1_start321_end335 </td><td>GBBM01             </td><td>GBBM01             </td><td>1</td><td>1</td><td>1.0</td></tr>\n",
       "\t<tr><td>Transcript_997393.p1_start74_end84</td><td>AAAPSPQDEKD             </td><td>1</td><td>amblyommaamericanum</td><td>Amblyomma americanum    </td><td> 74</td><td> 84</td><td>cleavage</td><td>Propeptide</td><td>deeppeptide</td><td>⋯</td><td>   NA</td><td>   NA</td><td>      NA</td><td>NA                                                      </td><td>Transcript_997393.p1_start74_end84</td><td>amblyommaamericanum</td><td>amblyommaamericanum</td><td>1</td><td>1</td><td>1.0</td></tr>\n",
       "\t<tr><td>Transcript_851.p1_start51_end74   </td><td>AACSSATGGHITARNLVMISPLLT</td><td>1</td><td>amblyommaamericanum</td><td>Amblyomma americanum    </td><td> 51</td><td> 74</td><td>cleavage</td><td>Propeptide</td><td>deeppeptide</td><td>⋯</td><td>   NA</td><td>   NA</td><td>      NA</td><td>NA                                                      </td><td>Transcript_851.p1_start51_end74   </td><td>amblyommaamericanum</td><td>amblyommaamericanum</td><td>1</td><td>1</td><td>1.0</td></tr>\n",
       "\t<tr><td>GINV01010476.1.p1_start21_end28   </td><td>AADEIRAR                </td><td>1</td><td>GINV01             </td><td>Rhipicephalus sanguineus</td><td> 21</td><td> 28</td><td>cleavage</td><td>Propeptide</td><td>deeppeptide</td><td>⋯</td><td>452.5</td><td>591.5</td><td>3.5e-177</td><td>vitellogenic carboxypeptidase-like protein [EC:3.4.16.-]</td><td>GINV01010476.1.p1_start21_end28   </td><td>GINV01             </td><td>GINV01             </td><td>1</td><td>1</td><td>1.0</td></tr>\n",
       "\t<tr><td>GADI01001786.1.p1_start24_end38   </td><td>AADENSLPEFVKNKR         </td><td>1</td><td>GADI01             </td><td>Ixodes ricinus          </td><td> 24</td><td> 38</td><td>cleavage</td><td>Propeptide</td><td>deeppeptide</td><td>⋯</td><td>   NA</td><td>   NA</td><td>      NA</td><td>NA                                                      </td><td>GADI01001786.1.p1_start24_end38   </td><td>GADI01             </td><td>GADI01             </td><td>1</td><td>1</td><td>1.0</td></tr>\n",
       "\t<tr><td>GEGO01000613.1.p1_start26_end44   </td><td>AAEDDDTNKNELPKEVENV     </td><td>1</td><td>GEGO01             </td><td>Ixodes ricinus          </td><td> 26</td><td> 44</td><td>cleavage</td><td>Propeptide</td><td>deeppeptide</td><td>⋯</td><td>   NA</td><td>   NA</td><td>      NA</td><td>NA                                                      </td><td>GEGO01000613.1.p1_start26_end44   </td><td>GEGO01             </td><td>GEGO01             </td><td>5</td><td>2</td><td>0.4</td></tr>\n",
       "</tbody>\n",
       "</table>\n"
      ],
      "text/latex": [
       "A tibble: 6 × 110\n",
       "\\begin{tabular}{lllllllllllllllllllll}\n",
       " peptide\\_id & sequence & antiinflammatory & tsa\\_accession & species & peptigate\\_start & peptigate\\_end & peptigate\\_peptide\\_type & peptigate\\_peptide\\_class & peptigate\\_prediction\\_tool & ⋯ & parent\\_protein\\_kegg\\_threshold & parent\\_protein\\_kegg\\_score & parent\\_protein\\_kegg\\_evalue & parent\\_protein\\_kegg\\_KO\\_definition & mmseqs2\\_representative\\_sequence & mmseqs2\\_source\\_representative\\_txome & mmseqs2\\_source\\_cluster\\_member\\_txome & mmseqs2\\_cluster\\_size & mmseqs2\\_cluster\\_same\\_txome\\_count & mmseqs2\\_cluster\\_same\\_txome\\_fraction\\\\\n",
       " <chr> & <chr> & <dbl> & <chr> & <chr> & <dbl> & <dbl> & <chr> & <chr> & <chr> & ⋯ & <dbl> & <dbl> & <dbl> & <chr> & <chr> & <chr> & <chr> & <int> & <int> & <dbl>\\\\\n",
       "\\hline\n",
       "\t GBBM01005295.1.p1\\_start321\\_end335  & AAAGTNTLILITSLA          & 1 & GBBM01              & Amblyomma triste         & 321 & 335 & cleavage & Propeptide & deeppeptide & ⋯ &    NA &    NA &       NA & NA                                                       & GBBM01005295.1.p1\\_start321\\_end335  & GBBM01              & GBBM01              & 1 & 1 & 1.0\\\\\n",
       "\t Transcript\\_997393.p1\\_start74\\_end84 & AAAPSPQDEKD              & 1 & amblyommaamericanum & Amblyomma americanum     &  74 &  84 & cleavage & Propeptide & deeppeptide & ⋯ &    NA &    NA &       NA & NA                                                       & Transcript\\_997393.p1\\_start74\\_end84 & amblyommaamericanum & amblyommaamericanum & 1 & 1 & 1.0\\\\\n",
       "\t Transcript\\_851.p1\\_start51\\_end74    & AACSSATGGHITARNLVMISPLLT & 1 & amblyommaamericanum & Amblyomma americanum     &  51 &  74 & cleavage & Propeptide & deeppeptide & ⋯ &    NA &    NA &       NA & NA                                                       & Transcript\\_851.p1\\_start51\\_end74    & amblyommaamericanum & amblyommaamericanum & 1 & 1 & 1.0\\\\\n",
       "\t GINV01010476.1.p1\\_start21\\_end28    & AADEIRAR                 & 1 & GINV01              & Rhipicephalus sanguineus &  21 &  28 & cleavage & Propeptide & deeppeptide & ⋯ & 452.5 & 591.5 & 3.5e-177 & vitellogenic carboxypeptidase-like protein {[}EC:3.4.16.-{]} & GINV01010476.1.p1\\_start21\\_end28    & GINV01              & GINV01              & 1 & 1 & 1.0\\\\\n",
       "\t GADI01001786.1.p1\\_start24\\_end38    & AADENSLPEFVKNKR          & 1 & GADI01              & Ixodes ricinus           &  24 &  38 & cleavage & Propeptide & deeppeptide & ⋯ &    NA &    NA &       NA & NA                                                       & GADI01001786.1.p1\\_start24\\_end38    & GADI01              & GADI01              & 1 & 1 & 1.0\\\\\n",
       "\t GEGO01000613.1.p1\\_start26\\_end44    & AAEDDDTNKNELPKEVENV      & 1 & GEGO01              & Ixodes ricinus           &  26 &  44 & cleavage & Propeptide & deeppeptide & ⋯ &    NA &    NA &       NA & NA                                                       & GEGO01000613.1.p1\\_start26\\_end44    & GEGO01              & GEGO01              & 5 & 2 & 0.4\\\\\n",
       "\\end{tabular}\n"
      ],
      "text/markdown": [
       "\n",
       "A tibble: 6 × 110\n",
       "\n",
       "| peptide_id &lt;chr&gt; | sequence &lt;chr&gt; | antiinflammatory &lt;dbl&gt; | tsa_accession &lt;chr&gt; | species &lt;chr&gt; | peptigate_start &lt;dbl&gt; | peptigate_end &lt;dbl&gt; | peptigate_peptide_type &lt;chr&gt; | peptigate_peptide_class &lt;chr&gt; | peptigate_prediction_tool &lt;chr&gt; | ⋯ ⋯ | parent_protein_kegg_threshold &lt;dbl&gt; | parent_protein_kegg_score &lt;dbl&gt; | parent_protein_kegg_evalue &lt;dbl&gt; | parent_protein_kegg_KO_definition &lt;chr&gt; | mmseqs2_representative_sequence &lt;chr&gt; | mmseqs2_source_representative_txome &lt;chr&gt; | mmseqs2_source_cluster_member_txome &lt;chr&gt; | mmseqs2_cluster_size &lt;int&gt; | mmseqs2_cluster_same_txome_count &lt;int&gt; | mmseqs2_cluster_same_txome_fraction &lt;dbl&gt; |\n",
       "|---|---|---|---|---|---|---|---|---|---|---|---|---|---|---|---|---|---|---|---|---|\n",
       "| GBBM01005295.1.p1_start321_end335  | AAAGTNTLILITSLA          | 1 | GBBM01              | Amblyomma triste         | 321 | 335 | cleavage | Propeptide | deeppeptide | ⋯ |    NA |    NA |       NA | NA                                                       | GBBM01005295.1.p1_start321_end335  | GBBM01              | GBBM01              | 1 | 1 | 1.0 |\n",
       "| Transcript_997393.p1_start74_end84 | AAAPSPQDEKD              | 1 | amblyommaamericanum | Amblyomma americanum     |  74 |  84 | cleavage | Propeptide | deeppeptide | ⋯ |    NA |    NA |       NA | NA                                                       | Transcript_997393.p1_start74_end84 | amblyommaamericanum | amblyommaamericanum | 1 | 1 | 1.0 |\n",
       "| Transcript_851.p1_start51_end74    | AACSSATGGHITARNLVMISPLLT | 1 | amblyommaamericanum | Amblyomma americanum     |  51 |  74 | cleavage | Propeptide | deeppeptide | ⋯ |    NA |    NA |       NA | NA                                                       | Transcript_851.p1_start51_end74    | amblyommaamericanum | amblyommaamericanum | 1 | 1 | 1.0 |\n",
       "| GINV01010476.1.p1_start21_end28    | AADEIRAR                 | 1 | GINV01              | Rhipicephalus sanguineus |  21 |  28 | cleavage | Propeptide | deeppeptide | ⋯ | 452.5 | 591.5 | 3.5e-177 | vitellogenic carboxypeptidase-like protein [EC:3.4.16.-] | GINV01010476.1.p1_start21_end28    | GINV01              | GINV01              | 1 | 1 | 1.0 |\n",
       "| GADI01001786.1.p1_start24_end38    | AADENSLPEFVKNKR          | 1 | GADI01              | Ixodes ricinus           |  24 |  38 | cleavage | Propeptide | deeppeptide | ⋯ |    NA |    NA |       NA | NA                                                       | GADI01001786.1.p1_start24_end38    | GADI01              | GADI01              | 1 | 1 | 1.0 |\n",
       "| GEGO01000613.1.p1_start26_end44    | AAEDDDTNKNELPKEVENV      | 1 | GEGO01              | Ixodes ricinus           |  26 |  44 | cleavage | Propeptide | deeppeptide | ⋯ |    NA |    NA |       NA | NA                                                       | GEGO01000613.1.p1_start26_end44    | GEGO01              | GEGO01              | 5 | 2 | 0.4 |\n",
       "\n"
      ],
      "text/plain": [
       "  peptide_id                         sequence                 antiinflammatory\n",
       "1 GBBM01005295.1.p1_start321_end335  AAAGTNTLILITSLA          1               \n",
       "2 Transcript_997393.p1_start74_end84 AAAPSPQDEKD              1               \n",
       "3 Transcript_851.p1_start51_end74    AACSSATGGHITARNLVMISPLLT 1               \n",
       "4 GINV01010476.1.p1_start21_end28    AADEIRAR                 1               \n",
       "5 GADI01001786.1.p1_start24_end38    AADENSLPEFVKNKR          1               \n",
       "6 GEGO01000613.1.p1_start26_end44    AAEDDDTNKNELPKEVENV      1               \n",
       "  tsa_accession       species                  peptigate_start peptigate_end\n",
       "1 GBBM01              Amblyomma triste         321             335          \n",
       "2 amblyommaamericanum Amblyomma americanum      74              84          \n",
       "3 amblyommaamericanum Amblyomma americanum      51              74          \n",
       "4 GINV01              Rhipicephalus sanguineus  21              28          \n",
       "5 GADI01              Ixodes ricinus            24              38          \n",
       "6 GEGO01              Ixodes ricinus            26              44          \n",
       "  peptigate_peptide_type peptigate_peptide_class peptigate_prediction_tool ⋯\n",
       "1 cleavage               Propeptide              deeppeptide               ⋯\n",
       "2 cleavage               Propeptide              deeppeptide               ⋯\n",
       "3 cleavage               Propeptide              deeppeptide               ⋯\n",
       "4 cleavage               Propeptide              deeppeptide               ⋯\n",
       "5 cleavage               Propeptide              deeppeptide               ⋯\n",
       "6 cleavage               Propeptide              deeppeptide               ⋯\n",
       "  parent_protein_kegg_threshold parent_protein_kegg_score\n",
       "1    NA                            NA                    \n",
       "2    NA                            NA                    \n",
       "3    NA                            NA                    \n",
       "4 452.5                         591.5                    \n",
       "5    NA                            NA                    \n",
       "6    NA                            NA                    \n",
       "  parent_protein_kegg_evalue\n",
       "1       NA                  \n",
       "2       NA                  \n",
       "3       NA                  \n",
       "4 3.5e-177                  \n",
       "5       NA                  \n",
       "6       NA                  \n",
       "  parent_protein_kegg_KO_definition                       \n",
       "1 NA                                                      \n",
       "2 NA                                                      \n",
       "3 NA                                                      \n",
       "4 vitellogenic carboxypeptidase-like protein [EC:3.4.16.-]\n",
       "5 NA                                                      \n",
       "6 NA                                                      \n",
       "  mmseqs2_representative_sequence    mmseqs2_source_representative_txome\n",
       "1 GBBM01005295.1.p1_start321_end335  GBBM01                             \n",
       "2 Transcript_997393.p1_start74_end84 amblyommaamericanum                \n",
       "3 Transcript_851.p1_start51_end74    amblyommaamericanum                \n",
       "4 GINV01010476.1.p1_start21_end28    GINV01                             \n",
       "5 GADI01001786.1.p1_start24_end38    GADI01                             \n",
       "6 GEGO01000613.1.p1_start26_end44    GEGO01                             \n",
       "  mmseqs2_source_cluster_member_txome mmseqs2_cluster_size\n",
       "1 GBBM01                              1                   \n",
       "2 amblyommaamericanum                 1                   \n",
       "3 amblyommaamericanum                 1                   \n",
       "4 GINV01                              1                   \n",
       "5 GADI01                              1                   \n",
       "6 GEGO01                              5                   \n",
       "  mmseqs2_cluster_same_txome_count mmseqs2_cluster_same_txome_fraction\n",
       "1 1                                1.0                                \n",
       "2 1                                1.0                                \n",
       "3 1                                1.0                                \n",
       "4 1                                1.0                                \n",
       "5 1                                1.0                                \n",
       "6 2                                0.4                                "
      ]
     },
     "metadata": {},
     "output_type": "display_data"
    }
   ],
   "source": [
    "head(antiinflammatory1)"
   ]
  },
  {
   "cell_type": "markdown",
   "id": "85f3fa8c-7c57-44d7-87eb-ecaaca29772b",
   "metadata": {},
   "source": [
    "## Analyze the results"
   ]
  },
  {
   "cell_type": "code",
   "execution_count": 16,
   "id": "3d3f67eb-9724-4800-8f78-f3293d5d1af5",
   "metadata": {},
   "outputs": [
    {
     "data": {
      "text/html": [
       "6146"
      ],
      "text/latex": [
       "6146"
      ],
      "text/markdown": [
       "6146"
      ],
      "text/plain": [
       "[1] 6146"
      ]
     },
     "metadata": {},
     "output_type": "display_data"
    },
    {
     "data": {
      "text/html": [
       "6142"
      ],
      "text/latex": [
       "6142"
      ],
      "text/markdown": [
       "6142"
      ],
      "text/plain": [
       "[1] 6142"
      ]
     },
     "metadata": {},
     "output_type": "display_data"
    }
   ],
   "source": [
    "# how many total sequences were annotated as anti-inflammatory bioactivity?\n",
    "nrow(antiinflammatory1)\n",
    "length(unique(antiinflammatory1$sequence))"
   ]
  },
  {
   "cell_type": "code",
   "execution_count": 17,
   "id": "3dcbdd1f-82a2-4033-98bf-a55d2f73eed7",
   "metadata": {},
   "outputs": [
    {
     "data": {
      "text/html": [
       "<table class=\"dataframe\">\n",
       "<caption>A tibble: 19 × 2</caption>\n",
       "<thead>\n",
       "\t<tr><th scope=col>species</th><th scope=col>n</th></tr>\n",
       "\t<tr><th scope=col>&lt;chr&gt;</th><th scope=col>&lt;int&gt;</th></tr>\n",
       "</thead>\n",
       "<tbody>\n",
       "\t<tr><td>Amblyomma americanum        </td><td>3784</td></tr>\n",
       "\t<tr><td>Amblyomma cajennense        </td><td>  37</td></tr>\n",
       "\t<tr><td>Amblyomma maculatum         </td><td>  68</td></tr>\n",
       "\t<tr><td>Amblyomma parvum            </td><td>   8</td></tr>\n",
       "\t<tr><td>Amblyomma triste            </td><td>  45</td></tr>\n",
       "\t<tr><td>Amblyomma tuberculatum      </td><td>  12</td></tr>\n",
       "\t<tr><td>Hyalomma dromedarii         </td><td> 348</td></tr>\n",
       "\t<tr><td>Hyalomma excavatum          </td><td>  28</td></tr>\n",
       "\t<tr><td>Ixodes ricinus              </td><td> 278</td></tr>\n",
       "\t<tr><td>Ixodes scapularis           </td><td>  23</td></tr>\n",
       "\t<tr><td>Ornithodoros brasiliensis   </td><td> 125</td></tr>\n",
       "\t<tr><td>Ornithodoros turicata       </td><td>  65</td></tr>\n",
       "\t<tr><td>Rhipicephalus annulatus     </td><td> 198</td></tr>\n",
       "\t<tr><td>Rhipicephalus appendiculatus</td><td> 611</td></tr>\n",
       "\t<tr><td>Rhipicephalus bursa         </td><td> 284</td></tr>\n",
       "\t<tr><td>Rhipicephalus microplus     </td><td>  44</td></tr>\n",
       "\t<tr><td>Rhipicephalus pulchellus    </td><td>  45</td></tr>\n",
       "\t<tr><td>Rhipicephalus sanguineus    </td><td>  59</td></tr>\n",
       "\t<tr><td>Rhipicephalus zambeziensis  </td><td>  84</td></tr>\n",
       "</tbody>\n",
       "</table>\n"
      ],
      "text/latex": [
       "A tibble: 19 × 2\n",
       "\\begin{tabular}{ll}\n",
       " species & n\\\\\n",
       " <chr> & <int>\\\\\n",
       "\\hline\n",
       "\t Amblyomma americanum         & 3784\\\\\n",
       "\t Amblyomma cajennense         &   37\\\\\n",
       "\t Amblyomma maculatum          &   68\\\\\n",
       "\t Amblyomma parvum             &    8\\\\\n",
       "\t Amblyomma triste             &   45\\\\\n",
       "\t Amblyomma tuberculatum       &   12\\\\\n",
       "\t Hyalomma dromedarii          &  348\\\\\n",
       "\t Hyalomma excavatum           &   28\\\\\n",
       "\t Ixodes ricinus               &  278\\\\\n",
       "\t Ixodes scapularis            &   23\\\\\n",
       "\t Ornithodoros brasiliensis    &  125\\\\\n",
       "\t Ornithodoros turicata        &   65\\\\\n",
       "\t Rhipicephalus annulatus      &  198\\\\\n",
       "\t Rhipicephalus appendiculatus &  611\\\\\n",
       "\t Rhipicephalus bursa          &  284\\\\\n",
       "\t Rhipicephalus microplus      &   44\\\\\n",
       "\t Rhipicephalus pulchellus     &   45\\\\\n",
       "\t Rhipicephalus sanguineus     &   59\\\\\n",
       "\t Rhipicephalus zambeziensis   &   84\\\\\n",
       "\\end{tabular}\n"
      ],
      "text/markdown": [
       "\n",
       "A tibble: 19 × 2\n",
       "\n",
       "| species &lt;chr&gt; | n &lt;int&gt; |\n",
       "|---|---|\n",
       "| Amblyomma americanum         | 3784 |\n",
       "| Amblyomma cajennense         |   37 |\n",
       "| Amblyomma maculatum          |   68 |\n",
       "| Amblyomma parvum             |    8 |\n",
       "| Amblyomma triste             |   45 |\n",
       "| Amblyomma tuberculatum       |   12 |\n",
       "| Hyalomma dromedarii          |  348 |\n",
       "| Hyalomma excavatum           |   28 |\n",
       "| Ixodes ricinus               |  278 |\n",
       "| Ixodes scapularis            |   23 |\n",
       "| Ornithodoros brasiliensis    |  125 |\n",
       "| Ornithodoros turicata        |   65 |\n",
       "| Rhipicephalus annulatus      |  198 |\n",
       "| Rhipicephalus appendiculatus |  611 |\n",
       "| Rhipicephalus bursa          |  284 |\n",
       "| Rhipicephalus microplus      |   44 |\n",
       "| Rhipicephalus pulchellus     |   45 |\n",
       "| Rhipicephalus sanguineus     |   59 |\n",
       "| Rhipicephalus zambeziensis   |   84 |\n",
       "\n"
      ],
      "text/plain": [
       "   species                      n   \n",
       "1  Amblyomma americanum         3784\n",
       "2  Amblyomma cajennense           37\n",
       "3  Amblyomma maculatum            68\n",
       "4  Amblyomma parvum                8\n",
       "5  Amblyomma triste               45\n",
       "6  Amblyomma tuberculatum         12\n",
       "7  Hyalomma dromedarii           348\n",
       "8  Hyalomma excavatum             28\n",
       "9  Ixodes ricinus                278\n",
       "10 Ixodes scapularis              23\n",
       "11 Ornithodoros brasiliensis     125\n",
       "12 Ornithodoros turicata          65\n",
       "13 Rhipicephalus annulatus       198\n",
       "14 Rhipicephalus appendiculatus  611\n",
       "15 Rhipicephalus bursa           284\n",
       "16 Rhipicephalus microplus        44\n",
       "17 Rhipicephalus pulchellus       45\n",
       "18 Rhipicephalus sanguineus       59\n",
       "19 Rhipicephalus zambeziensis     84"
      ]
     },
     "metadata": {},
     "output_type": "display_data"
    }
   ],
   "source": [
    "# what was the species x peptide hit makeup?\n",
    "antiinflammatory1 %>%\n",
    "  group_by(species) %>%\n",
    "  tally() "
   ]
  },
  {
   "cell_type": "code",
   "execution_count": 18,
   "id": "2269c8b4-f4c1-4911-8b0c-ef0c6bc6cf03",
   "metadata": {},
   "outputs": [
    {
     "data": {
      "text/html": [
       "<table class=\"dataframe\">\n",
       "<caption>A tibble: 2 × 2</caption>\n",
       "<thead>\n",
       "\t<tr><th scope=col>humanpeptideatlas_blast_result</th><th scope=col>n</th></tr>\n",
       "\t<tr><th scope=col>&lt;chr&gt;</th><th scope=col>&lt;int&gt;</th></tr>\n",
       "</thead>\n",
       "<tbody>\n",
       "\t<tr><td>blast hit   </td><td>  93</td></tr>\n",
       "\t<tr><td>no blast hit</td><td>6049</td></tr>\n",
       "</tbody>\n",
       "</table>\n"
      ],
      "text/latex": [
       "A tibble: 2 × 2\n",
       "\\begin{tabular}{ll}\n",
       " humanpeptideatlas\\_blast\\_result & n\\\\\n",
       " <chr> & <int>\\\\\n",
       "\\hline\n",
       "\t blast hit    &   93\\\\\n",
       "\t no blast hit & 6049\\\\\n",
       "\\end{tabular}\n"
      ],
      "text/markdown": [
       "\n",
       "A tibble: 2 × 2\n",
       "\n",
       "| humanpeptideatlas_blast_result &lt;chr&gt; | n &lt;int&gt; |\n",
       "|---|---|\n",
       "| blast hit    |   93 |\n",
       "| no blast hit | 6049 |\n",
       "\n"
      ],
      "text/plain": [
       "  humanpeptideatlas_blast_result n   \n",
       "1 blast hit                        93\n",
       "2 no blast hit                   6049"
      ]
     },
     "metadata": {},
     "output_type": "display_data"
    }
   ],
   "source": [
    "# how many peptides also had hits to the human peptide atlas?\n",
    "antiinflammatory1 %>%\n",
    "  mutate(humanpeptideatlas_blast_result = ifelse(!is.na(humanpeptideatlas_blast_bitscore), \"blast hit\", \"no blast hit\")) %>%\n",
    "  select(sequence, humanpeptideatlas_blast_result) %>%\n",
    "  distinct() %>%\n",
    "  group_by(humanpeptideatlas_blast_result) %>%\n",
    "  tally()"
   ]
  },
  {
   "cell_type": "code",
   "execution_count": 19,
   "id": "4eab78e3-5dfe-486c-834e-8bb49fea030d",
   "metadata": {},
   "outputs": [
    {
     "data": {
      "text/html": [
       "<table class=\"dataframe\">\n",
       "<caption>A tibble: 2 × 2</caption>\n",
       "<thead>\n",
       "\t<tr><th scope=col>peptigate_peptipedia_blast_result</th><th scope=col>n</th></tr>\n",
       "\t<tr><th scope=col>&lt;chr&gt;</th><th scope=col>&lt;int&gt;</th></tr>\n",
       "</thead>\n",
       "<tbody>\n",
       "\t<tr><td>blast hit   </td><td> 103</td></tr>\n",
       "\t<tr><td>no blast hit</td><td>6039</td></tr>\n",
       "</tbody>\n",
       "</table>\n"
      ],
      "text/latex": [
       "A tibble: 2 × 2\n",
       "\\begin{tabular}{ll}\n",
       " peptigate\\_peptipedia\\_blast\\_result & n\\\\\n",
       " <chr> & <int>\\\\\n",
       "\\hline\n",
       "\t blast hit    &  103\\\\\n",
       "\t no blast hit & 6039\\\\\n",
       "\\end{tabular}\n"
      ],
      "text/markdown": [
       "\n",
       "A tibble: 2 × 2\n",
       "\n",
       "| peptigate_peptipedia_blast_result &lt;chr&gt; | n &lt;int&gt; |\n",
       "|---|---|\n",
       "| blast hit    |  103 |\n",
       "| no blast hit | 6039 |\n",
       "\n"
      ],
      "text/plain": [
       "  peptigate_peptipedia_blast_result n   \n",
       "1 blast hit                          103\n",
       "2 no blast hit                      6039"
      ]
     },
     "metadata": {},
     "output_type": "display_data"
    }
   ],
   "source": [
    "# how many peptides had hits to the peptipedia database?\n",
    "antiinflammatory1 %>%\n",
    "  mutate(peptigate_peptipedia_blast_result = ifelse(!is.na(peptigate_peptipedia_blast_bitscore), \"blast hit\", \"no blast hit\")) %>%\n",
    "  select(sequence, peptigate_peptipedia_blast_result) %>%\n",
    "  distinct() %>%\n",
    "  group_by(peptigate_peptipedia_blast_result) %>%\n",
    "  tally()"
   ]
  },
  {
   "cell_type": "code",
   "execution_count": 20,
   "id": "d41fd3b8-26d9-44ae-9501-a486beeb4e52",
   "metadata": {},
   "outputs": [
    {
     "data": {
      "text/html": [
       "6146"
      ],
      "text/latex": [
       "6146"
      ],
      "text/markdown": [
       "6146"
      ],
      "text/plain": [
       "[1] 6146"
      ]
     },
     "metadata": {},
     "output_type": "display_data"
    },
    {
     "data": {
      "text/html": [
       "6142"
      ],
      "text/latex": [
       "6142"
      ],
      "text/markdown": [
       "6142"
      ],
      "text/plain": [
       "[1] 6142"
      ]
     },
     "metadata": {},
     "output_type": "display_data"
    },
    {
     "data": {
      "text/html": [
       "5915"
      ],
      "text/latex": [
       "5915"
      ],
      "text/markdown": [
       "5915"
      ],
      "text/plain": [
       "[1] 5915"
      ]
     },
     "metadata": {},
     "output_type": "display_data"
    }
   ],
   "source": [
    "# how similar are these sequences at an 80% percent identity?\n",
    "nrow(antiinflammatory1)\n",
    "length(unique(antiinflammatory1$sequence))\n",
    "length(unique(antiinflammatory1$mmseqs2_representative_sequence))"
   ]
  },
  {
   "cell_type": "code",
   "execution_count": 21,
   "id": "c5cf1b4e-f1c9-47dc-b8b6-ad4c8e4f5283",
   "metadata": {},
   "outputs": [
    {
     "data": {
      "text/html": [
       "<table class=\"dataframe\">\n",
       "<caption>A grouped_df: 3 × 3</caption>\n",
       "<thead>\n",
       "\t<tr><th scope=col>peptigate_peptide_type</th><th scope=col>peptigate_prediction_tool</th><th scope=col>n</th></tr>\n",
       "\t<tr><th scope=col>&lt;chr&gt;</th><th scope=col>&lt;chr&gt;</th><th scope=col>&lt;int&gt;</th></tr>\n",
       "</thead>\n",
       "<tbody>\n",
       "\t<tr><td>cleavage</td><td>deeppeptide </td><td>2170</td></tr>\n",
       "\t<tr><td>cleavage</td><td>nlpprecursor</td><td> 150</td></tr>\n",
       "\t<tr><td>sORF    </td><td>plmutils    </td><td>3822</td></tr>\n",
       "</tbody>\n",
       "</table>\n"
      ],
      "text/latex": [
       "A grouped\\_df: 3 × 3\n",
       "\\begin{tabular}{lll}\n",
       " peptigate\\_peptide\\_type & peptigate\\_prediction\\_tool & n\\\\\n",
       " <chr> & <chr> & <int>\\\\\n",
       "\\hline\n",
       "\t cleavage & deeppeptide  & 2170\\\\\n",
       "\t cleavage & nlpprecursor &  150\\\\\n",
       "\t sORF     & plmutils     & 3822\\\\\n",
       "\\end{tabular}\n"
      ],
      "text/markdown": [
       "\n",
       "A grouped_df: 3 × 3\n",
       "\n",
       "| peptigate_peptide_type &lt;chr&gt; | peptigate_prediction_tool &lt;chr&gt; | n &lt;int&gt; |\n",
       "|---|---|---|\n",
       "| cleavage | deeppeptide  | 2170 |\n",
       "| cleavage | nlpprecursor |  150 |\n",
       "| sORF     | plmutils     | 3822 |\n",
       "\n"
      ],
      "text/plain": [
       "  peptigate_peptide_type peptigate_prediction_tool n   \n",
       "1 cleavage               deeppeptide               2170\n",
       "2 cleavage               nlpprecursor               150\n",
       "3 sORF                   plmutils                  3822"
      ]
     },
     "metadata": {},
     "output_type": "display_data"
    }
   ],
   "source": [
    "# how many sequences were cleavage vs. sORF\n",
    "antiinflammatory1 %>%\n",
    " select(sequence, peptigate_peptide_type, peptigate_prediction_tool) %>%\n",
    " distinct() %>%\n",
    " group_by(peptigate_peptide_type, peptigate_prediction_tool) %>%\n",
    " tally()"
   ]
  },
  {
   "cell_type": "code",
   "execution_count": 32,
   "id": "e604354e-34da-4f62-aef4-c6910d7b31bd",
   "metadata": {},
   "outputs": [
    {
     "data": {
      "text/html": [
       "5142"
      ],
      "text/latex": [
       "5142"
      ],
      "text/markdown": [
       "5142"
      ],
      "text/plain": [
       "[1] 5142"
      ]
     },
     "metadata": {},
     "output_type": "display_data"
    }
   ],
   "source": [
    "2170+150+2822"
   ]
  },
  {
   "cell_type": "markdown",
   "id": "26ea5d1d-0ef2-4ad6-ac25-7c8e5d5a3df6",
   "metadata": {},
   "source": [
    "## See if other bioactivity predictions give pointers as to the veracity of the anti-inflammatory prediction\n",
    "\n",
    "I don't see any clear signals that I would be comfortable acting on right now in the results of other bioactivity binary classifiers."
   ]
  },
  {
   "cell_type": "code",
   "execution_count": 23,
   "id": "9a0404d6-102d-48f5-9e14-ea339d1a5651",
   "metadata": {},
   "outputs": [],
   "source": [
    "antiinflammatory1_other_bioactivity <- antiinflammatory1 %>%\n",
    " rowwise() %>%\n",
    " mutate(bioactivity_sum = sum(c_across(c(peptigate_AB, peptigate_ACE, peptigate_ACP,\n",
    "                                         peptigate_AF, peptigate_AMAP, peptigate_AMP,\n",
    "                                         peptigate_AOX, peptigate_APP, peptigate_AV, \n",
    "                                         peptigate_BBP, peptigate_DPPIV, peptigate_MRSA, \n",
    "                                         peptigate_Neuro, peptigate_QS, peptigate_TOX, \n",
    "                                         peptigate_TTCA)),\n",
    "                               na.rm = TRUE))"
   ]
  },
  {
   "cell_type": "code",
   "execution_count": 24,
   "id": "bf4bbb1f-012c-4390-81ab-98db2fef8f60",
   "metadata": {},
   "outputs": [
    {
     "name": "stderr",
     "output_type": "stream",
     "text": [
      "\u001b[1m\u001b[22m`stat_bin()` using `bins = 30`. Pick better value with `binwidth`.\n"
     ]
    },
    {
     "data": {
      "image/png": "[encoded data removed]",
      "text/plain": [
       "plot without title"
      ]
     },
     "metadata": {
      "image/png": {
       "height": 420,
       "width": 420
      }
     },
     "output_type": "display_data"
    }
   ],
   "source": [
    "ggplot(antiinflammatory1_other_bioactivity, aes(x = bioactivity_sum)) +\n",
    "  geom_histogram() +\n",
    "  theme_classic()"
   ]
  },
  {
   "cell_type": "markdown",
   "id": "fb981fe5-a5d9-4bc3-ae20-36a6e158a7b8",
   "metadata": {},
   "source": [
    "## Filtering to a smaller set of anti-inflammatory peptides to screen for bioactivity\n",
    "\n",
    "Remove peptides that don't cluster at 80% with another peptide.\n",
    "These peptides don't have orthogonal support in evolutionarily close neighbors (other ticks), which makes it more likely that they are not real.\n",
    "\n",
    "Note that technically a peptide could be predicted from the same transcriptome twice but in practice we did not observe this happening very frequently."
   ]
  },
  {
   "cell_type": "code",
   "execution_count": 25,
   "id": "fda3917e-1651-4de9-bf04-76fc595a2a3a",
   "metadata": {},
   "outputs": [
    {
     "data": {
      "text/html": [
       "946"
      ],
      "text/latex": [
       "946"
      ],
      "text/markdown": [
       "946"
      ],
      "text/plain": [
       "[1] 946"
      ]
     },
     "metadata": {},
     "output_type": "display_data"
    },
    {
     "data": {
      "text/html": [
       "719"
      ],
      "text/latex": [
       "719"
      ],
      "text/markdown": [
       "719"
      ],
      "text/plain": [
       "[1] 719"
      ]
     },
     "metadata": {},
     "output_type": "display_data"
    }
   ],
   "source": [
    "antiinflammatory1_clustersize2 <- antiinflammatory1 %>%\n",
    "  filter(mmseqs2_cluster_size > 1)\n",
    "\n",
    "nrow(antiinflammatory1_clustersize2)\n",
    "length(unique(antiinflammatory1_clustersize2$mmseqs2_representative_sequence))"
   ]
  },
  {
   "cell_type": "code",
   "execution_count": 26,
   "id": "6b0ba13d-11ba-4d6c-9c88-bc1cbc74e72a",
   "metadata": {},
   "outputs": [
    {
     "data": {
      "text/html": [
       "<table class=\"dataframe\">\n",
       "<caption>A tibble: 19 × 2</caption>\n",
       "<thead>\n",
       "\t<tr><th scope=col>species</th><th scope=col>n</th></tr>\n",
       "\t<tr><th scope=col>&lt;chr&gt;</th><th scope=col>&lt;int&gt;</th></tr>\n",
       "</thead>\n",
       "<tbody>\n",
       "\t<tr><td>Amblyomma americanum        </td><td>354</td></tr>\n",
       "\t<tr><td>Amblyomma cajennense        </td><td> 15</td></tr>\n",
       "\t<tr><td>Amblyomma maculatum         </td><td> 19</td></tr>\n",
       "\t<tr><td>Amblyomma parvum            </td><td>  5</td></tr>\n",
       "\t<tr><td>Amblyomma triste            </td><td>  9</td></tr>\n",
       "\t<tr><td>Amblyomma tuberculatum      </td><td>  1</td></tr>\n",
       "\t<tr><td>Hyalomma dromedarii         </td><td> 98</td></tr>\n",
       "\t<tr><td>Hyalomma excavatum          </td><td>  9</td></tr>\n",
       "\t<tr><td>Ixodes ricinus              </td><td> 96</td></tr>\n",
       "\t<tr><td>Ixodes scapularis           </td><td>  8</td></tr>\n",
       "\t<tr><td>Ornithodoros brasiliensis   </td><td> 16</td></tr>\n",
       "\t<tr><td>Ornithodoros turicata       </td><td> 10</td></tr>\n",
       "\t<tr><td>Rhipicephalus annulatus     </td><td> 58</td></tr>\n",
       "\t<tr><td>Rhipicephalus appendiculatus</td><td> 88</td></tr>\n",
       "\t<tr><td>Rhipicephalus bursa         </td><td> 92</td></tr>\n",
       "\t<tr><td>Rhipicephalus microplus     </td><td> 12</td></tr>\n",
       "\t<tr><td>Rhipicephalus pulchellus    </td><td> 15</td></tr>\n",
       "\t<tr><td>Rhipicephalus sanguineus    </td><td> 15</td></tr>\n",
       "\t<tr><td>Rhipicephalus zambeziensis  </td><td> 26</td></tr>\n",
       "</tbody>\n",
       "</table>\n"
      ],
      "text/latex": [
       "A tibble: 19 × 2\n",
       "\\begin{tabular}{ll}\n",
       " species & n\\\\\n",
       " <chr> & <int>\\\\\n",
       "\\hline\n",
       "\t Amblyomma americanum         & 354\\\\\n",
       "\t Amblyomma cajennense         &  15\\\\\n",
       "\t Amblyomma maculatum          &  19\\\\\n",
       "\t Amblyomma parvum             &   5\\\\\n",
       "\t Amblyomma triste             &   9\\\\\n",
       "\t Amblyomma tuberculatum       &   1\\\\\n",
       "\t Hyalomma dromedarii          &  98\\\\\n",
       "\t Hyalomma excavatum           &   9\\\\\n",
       "\t Ixodes ricinus               &  96\\\\\n",
       "\t Ixodes scapularis            &   8\\\\\n",
       "\t Ornithodoros brasiliensis    &  16\\\\\n",
       "\t Ornithodoros turicata        &  10\\\\\n",
       "\t Rhipicephalus annulatus      &  58\\\\\n",
       "\t Rhipicephalus appendiculatus &  88\\\\\n",
       "\t Rhipicephalus bursa          &  92\\\\\n",
       "\t Rhipicephalus microplus      &  12\\\\\n",
       "\t Rhipicephalus pulchellus     &  15\\\\\n",
       "\t Rhipicephalus sanguineus     &  15\\\\\n",
       "\t Rhipicephalus zambeziensis   &  26\\\\\n",
       "\\end{tabular}\n"
      ],
      "text/markdown": [
       "\n",
       "A tibble: 19 × 2\n",
       "\n",
       "| species &lt;chr&gt; | n &lt;int&gt; |\n",
       "|---|---|\n",
       "| Amblyomma americanum         | 354 |\n",
       "| Amblyomma cajennense         |  15 |\n",
       "| Amblyomma maculatum          |  19 |\n",
       "| Amblyomma parvum             |   5 |\n",
       "| Amblyomma triste             |   9 |\n",
       "| Amblyomma tuberculatum       |   1 |\n",
       "| Hyalomma dromedarii          |  98 |\n",
       "| Hyalomma excavatum           |   9 |\n",
       "| Ixodes ricinus               |  96 |\n",
       "| Ixodes scapularis            |   8 |\n",
       "| Ornithodoros brasiliensis    |  16 |\n",
       "| Ornithodoros turicata        |  10 |\n",
       "| Rhipicephalus annulatus      |  58 |\n",
       "| Rhipicephalus appendiculatus |  88 |\n",
       "| Rhipicephalus bursa          |  92 |\n",
       "| Rhipicephalus microplus      |  12 |\n",
       "| Rhipicephalus pulchellus     |  15 |\n",
       "| Rhipicephalus sanguineus     |  15 |\n",
       "| Rhipicephalus zambeziensis   |  26 |\n",
       "\n"
      ],
      "text/plain": [
       "   species                      n  \n",
       "1  Amblyomma americanum         354\n",
       "2  Amblyomma cajennense          15\n",
       "3  Amblyomma maculatum           19\n",
       "4  Amblyomma parvum               5\n",
       "5  Amblyomma triste               9\n",
       "6  Amblyomma tuberculatum         1\n",
       "7  Hyalomma dromedarii           98\n",
       "8  Hyalomma excavatum             9\n",
       "9  Ixodes ricinus                96\n",
       "10 Ixodes scapularis              8\n",
       "11 Ornithodoros brasiliensis     16\n",
       "12 Ornithodoros turicata         10\n",
       "13 Rhipicephalus annulatus       58\n",
       "14 Rhipicephalus appendiculatus  88\n",
       "15 Rhipicephalus bursa           92\n",
       "16 Rhipicephalus microplus       12\n",
       "17 Rhipicephalus pulchellus      15\n",
       "18 Rhipicephalus sanguineus      15\n",
       "19 Rhipicephalus zambeziensis    26"
      ]
     },
     "metadata": {},
     "output_type": "display_data"
    }
   ],
   "source": [
    "antiinflammatory1_clustersize2 %>%\n",
    "  group_by(species) %>%\n",
    "  tally()"
   ]
  },
  {
   "cell_type": "code",
   "execution_count": 27,
   "id": "614a5e9e-e160-4701-bc31-1f30e96976f2",
   "metadata": {},
   "outputs": [
    {
     "data": {
      "text/html": [
       "<table class=\"dataframe\">\n",
       "<caption>A tibble: 3 × 2</caption>\n",
       "<thead>\n",
       "\t<tr><th scope=col>peptigate_prediction_tool</th><th scope=col>n</th></tr>\n",
       "\t<tr><th scope=col>&lt;chr&gt;</th><th scope=col>&lt;int&gt;</th></tr>\n",
       "</thead>\n",
       "<tbody>\n",
       "\t<tr><td>deeppeptide </td><td>761</td></tr>\n",
       "\t<tr><td>nlpprecursor</td><td> 14</td></tr>\n",
       "\t<tr><td>plmutils    </td><td>171</td></tr>\n",
       "</tbody>\n",
       "</table>\n"
      ],
      "text/latex": [
       "A tibble: 3 × 2\n",
       "\\begin{tabular}{ll}\n",
       " peptigate\\_prediction\\_tool & n\\\\\n",
       " <chr> & <int>\\\\\n",
       "\\hline\n",
       "\t deeppeptide  & 761\\\\\n",
       "\t nlpprecursor &  14\\\\\n",
       "\t plmutils     & 171\\\\\n",
       "\\end{tabular}\n"
      ],
      "text/markdown": [
       "\n",
       "A tibble: 3 × 2\n",
       "\n",
       "| peptigate_prediction_tool &lt;chr&gt; | n &lt;int&gt; |\n",
       "|---|---|\n",
       "| deeppeptide  | 761 |\n",
       "| nlpprecursor |  14 |\n",
       "| plmutils     | 171 |\n",
       "\n"
      ],
      "text/plain": [
       "  peptigate_prediction_tool n  \n",
       "1 deeppeptide               761\n",
       "2 nlpprecursor               14\n",
       "3 plmutils                  171"
      ]
     },
     "metadata": {},
     "output_type": "display_data"
    }
   ],
   "source": [
    "antiinflammatory1_clustersize2 %>%\n",
    "  group_by(peptigate_prediction_tool) %>%\n",
    "  tally()"
   ]
  },
  {
   "cell_type": "code",
   "execution_count": 28,
   "id": "081c45db-970c-467e-8cb9-251d062e29db",
   "metadata": {},
   "outputs": [],
   "source": [
    "# loop through different cluster size cutoffs and report how many peptides are retained\n",
    "num_clusters_at_different_cutoffs <- data.frame(cut_off = numeric(), \n",
    "                                                num_peptides = numeric(),\n",
    "                                                num_clusters = numeric())\n",
    "for(i in 1:46){\n",
    "    tmp <- antiinflammatory1 %>%\n",
    "      filter(mmseqs2_cluster_size > i)\n",
    "    num_clusters_at_different_cutoffs[i, 1] <- i + 1\n",
    "    num_clusters_at_different_cutoffs[i, 2] <- nrow(tmp)\n",
    "    num_clusters_at_different_cutoffs[i, 3] <- length(unique(tmp$mmseqs2_representative_sequence))\n",
    "}"
   ]
  },
  {
   "cell_type": "code",
   "execution_count": 29,
   "id": "321be613-2edd-410d-8fcd-202f9d6e7e60",
   "metadata": {},
   "outputs": [
    {
     "data": {
      "text/html": [
       "<table class=\"dataframe\">\n",
       "<caption>A data.frame: 46 × 3</caption>\n",
       "<thead>\n",
       "\t<tr><th></th><th scope=col>cut_off</th><th scope=col>num_peptides</th><th scope=col>num_clusters</th></tr>\n",
       "\t<tr><th></th><th scope=col>&lt;dbl&gt;</th><th scope=col>&lt;dbl&gt;</th><th scope=col>&lt;dbl&gt;</th></tr>\n",
       "</thead>\n",
       "<tbody>\n",
       "\t<tr><th scope=row>1</th><td> 2</td><td>946</td><td>719</td></tr>\n",
       "\t<tr><th scope=row>2</th><td> 3</td><td>525</td><td>345</td></tr>\n",
       "\t<tr><th scope=row>3</th><td> 4</td><td>352</td><td>204</td></tr>\n",
       "\t<tr><th scope=row>4</th><td> 5</td><td>287</td><td>155</td></tr>\n",
       "\t<tr><th scope=row>5</th><td> 6</td><td>242</td><td>119</td></tr>\n",
       "\t<tr><th scope=row>6</th><td> 7</td><td>222</td><td>104</td></tr>\n",
       "\t<tr><th scope=row>7</th><td> 8</td><td>180</td><td> 83</td></tr>\n",
       "\t<tr><th scope=row>8</th><td> 9</td><td>154</td><td> 70</td></tr>\n",
       "\t<tr><th scope=row>9</th><td>10</td><td>140</td><td> 61</td></tr>\n",
       "\t<tr><th scope=row>10</th><td>11</td><td>107</td><td> 48</td></tr>\n",
       "\t<tr><th scope=row>11</th><td>12</td><td> 91</td><td> 39</td></tr>\n",
       "\t<tr><th scope=row>12</th><td>13</td><td> 81</td><td> 33</td></tr>\n",
       "\t<tr><th scope=row>13</th><td>14</td><td> 74</td><td> 28</td></tr>\n",
       "\t<tr><th scope=row>14</th><td>15</td><td> 57</td><td> 22</td></tr>\n",
       "\t<tr><th scope=row>15</th><td>16</td><td> 49</td><td> 18</td></tr>\n",
       "\t<tr><th scope=row>16</th><td>17</td><td> 49</td><td> 18</td></tr>\n",
       "\t<tr><th scope=row>17</th><td>18</td><td> 46</td><td> 16</td></tr>\n",
       "\t<tr><th scope=row>18</th><td>19</td><td> 41</td><td> 13</td></tr>\n",
       "\t<tr><th scope=row>19</th><td>20</td><td> 34</td><td> 11</td></tr>\n",
       "\t<tr><th scope=row>20</th><td>21</td><td> 21</td><td>  8</td></tr>\n",
       "\t<tr><th scope=row>21</th><td>22</td><td> 18</td><td>  7</td></tr>\n",
       "\t<tr><th scope=row>22</th><td>23</td><td> 15</td><td>  6</td></tr>\n",
       "\t<tr><th scope=row>23</th><td>24</td><td> 13</td><td>  5</td></tr>\n",
       "\t<tr><th scope=row>24</th><td>25</td><td> 13</td><td>  5</td></tr>\n",
       "\t<tr><th scope=row>25</th><td>26</td><td> 11</td><td>  4</td></tr>\n",
       "\t<tr><th scope=row>26</th><td>27</td><td> 11</td><td>  4</td></tr>\n",
       "\t<tr><th scope=row>27</th><td>28</td><td>  8</td><td>  3</td></tr>\n",
       "\t<tr><th scope=row>28</th><td>29</td><td>  8</td><td>  3</td></tr>\n",
       "\t<tr><th scope=row>29</th><td>30</td><td>  8</td><td>  3</td></tr>\n",
       "\t<tr><th scope=row>30</th><td>31</td><td>  8</td><td>  3</td></tr>\n",
       "\t<tr><th scope=row>31</th><td>32</td><td>  8</td><td>  3</td></tr>\n",
       "\t<tr><th scope=row>32</th><td>33</td><td>  8</td><td>  3</td></tr>\n",
       "\t<tr><th scope=row>33</th><td>34</td><td>  7</td><td>  2</td></tr>\n",
       "\t<tr><th scope=row>34</th><td>35</td><td>  7</td><td>  2</td></tr>\n",
       "\t<tr><th scope=row>35</th><td>36</td><td>  7</td><td>  2</td></tr>\n",
       "\t<tr><th scope=row>36</th><td>37</td><td>  7</td><td>  2</td></tr>\n",
       "\t<tr><th scope=row>37</th><td>38</td><td>  7</td><td>  2</td></tr>\n",
       "\t<tr><th scope=row>38</th><td>39</td><td>  7</td><td>  2</td></tr>\n",
       "\t<tr><th scope=row>39</th><td>40</td><td>  7</td><td>  2</td></tr>\n",
       "\t<tr><th scope=row>40</th><td>41</td><td>  5</td><td>  1</td></tr>\n",
       "\t<tr><th scope=row>41</th><td>42</td><td>  5</td><td>  1</td></tr>\n",
       "\t<tr><th scope=row>42</th><td>43</td><td>  5</td><td>  1</td></tr>\n",
       "\t<tr><th scope=row>43</th><td>44</td><td>  5</td><td>  1</td></tr>\n",
       "\t<tr><th scope=row>44</th><td>45</td><td>  5</td><td>  1</td></tr>\n",
       "\t<tr><th scope=row>45</th><td>46</td><td>  5</td><td>  1</td></tr>\n",
       "\t<tr><th scope=row>46</th><td>47</td><td>  0</td><td>  0</td></tr>\n",
       "</tbody>\n",
       "</table>\n"
      ],
      "text/latex": [
       "A data.frame: 46 × 3\n",
       "\\begin{tabular}{r|lll}\n",
       "  & cut\\_off & num\\_peptides & num\\_clusters\\\\\n",
       "  & <dbl> & <dbl> & <dbl>\\\\\n",
       "\\hline\n",
       "\t1 &  2 & 946 & 719\\\\\n",
       "\t2 &  3 & 525 & 345\\\\\n",
       "\t3 &  4 & 352 & 204\\\\\n",
       "\t4 &  5 & 287 & 155\\\\\n",
       "\t5 &  6 & 242 & 119\\\\\n",
       "\t6 &  7 & 222 & 104\\\\\n",
       "\t7 &  8 & 180 &  83\\\\\n",
       "\t8 &  9 & 154 &  70\\\\\n",
       "\t9 & 10 & 140 &  61\\\\\n",
       "\t10 & 11 & 107 &  48\\\\\n",
       "\t11 & 12 &  91 &  39\\\\\n",
       "\t12 & 13 &  81 &  33\\\\\n",
       "\t13 & 14 &  74 &  28\\\\\n",
       "\t14 & 15 &  57 &  22\\\\\n",
       "\t15 & 16 &  49 &  18\\\\\n",
       "\t16 & 17 &  49 &  18\\\\\n",
       "\t17 & 18 &  46 &  16\\\\\n",
       "\t18 & 19 &  41 &  13\\\\\n",
       "\t19 & 20 &  34 &  11\\\\\n",
       "\t20 & 21 &  21 &   8\\\\\n",
       "\t21 & 22 &  18 &   7\\\\\n",
       "\t22 & 23 &  15 &   6\\\\\n",
       "\t23 & 24 &  13 &   5\\\\\n",
       "\t24 & 25 &  13 &   5\\\\\n",
       "\t25 & 26 &  11 &   4\\\\\n",
       "\t26 & 27 &  11 &   4\\\\\n",
       "\t27 & 28 &   8 &   3\\\\\n",
       "\t28 & 29 &   8 &   3\\\\\n",
       "\t29 & 30 &   8 &   3\\\\\n",
       "\t30 & 31 &   8 &   3\\\\\n",
       "\t31 & 32 &   8 &   3\\\\\n",
       "\t32 & 33 &   8 &   3\\\\\n",
       "\t33 & 34 &   7 &   2\\\\\n",
       "\t34 & 35 &   7 &   2\\\\\n",
       "\t35 & 36 &   7 &   2\\\\\n",
       "\t36 & 37 &   7 &   2\\\\\n",
       "\t37 & 38 &   7 &   2\\\\\n",
       "\t38 & 39 &   7 &   2\\\\\n",
       "\t39 & 40 &   7 &   2\\\\\n",
       "\t40 & 41 &   5 &   1\\\\\n",
       "\t41 & 42 &   5 &   1\\\\\n",
       "\t42 & 43 &   5 &   1\\\\\n",
       "\t43 & 44 &   5 &   1\\\\\n",
       "\t44 & 45 &   5 &   1\\\\\n",
       "\t45 & 46 &   5 &   1\\\\\n",
       "\t46 & 47 &   0 &   0\\\\\n",
       "\\end{tabular}\n"
      ],
      "text/markdown": [
       "\n",
       "A data.frame: 46 × 3\n",
       "\n",
       "| <!--/--> | cut_off &lt;dbl&gt; | num_peptides &lt;dbl&gt; | num_clusters &lt;dbl&gt; |\n",
       "|---|---|---|---|\n",
       "| 1 |  2 | 946 | 719 |\n",
       "| 2 |  3 | 525 | 345 |\n",
       "| 3 |  4 | 352 | 204 |\n",
       "| 4 |  5 | 287 | 155 |\n",
       "| 5 |  6 | 242 | 119 |\n",
       "| 6 |  7 | 222 | 104 |\n",
       "| 7 |  8 | 180 |  83 |\n",
       "| 8 |  9 | 154 |  70 |\n",
       "| 9 | 10 | 140 |  61 |\n",
       "| 10 | 11 | 107 |  48 |\n",
       "| 11 | 12 |  91 |  39 |\n",
       "| 12 | 13 |  81 |  33 |\n",
       "| 13 | 14 |  74 |  28 |\n",
       "| 14 | 15 |  57 |  22 |\n",
       "| 15 | 16 |  49 |  18 |\n",
       "| 16 | 17 |  49 |  18 |\n",
       "| 17 | 18 |  46 |  16 |\n",
       "| 18 | 19 |  41 |  13 |\n",
       "| 19 | 20 |  34 |  11 |\n",
       "| 20 | 21 |  21 |   8 |\n",
       "| 21 | 22 |  18 |   7 |\n",
       "| 22 | 23 |  15 |   6 |\n",
       "| 23 | 24 |  13 |   5 |\n",
       "| 24 | 25 |  13 |   5 |\n",
       "| 25 | 26 |  11 |   4 |\n",
       "| 26 | 27 |  11 |   4 |\n",
       "| 27 | 28 |   8 |   3 |\n",
       "| 28 | 29 |   8 |   3 |\n",
       "| 29 | 30 |   8 |   3 |\n",
       "| 30 | 31 |   8 |   3 |\n",
       "| 31 | 32 |   8 |   3 |\n",
       "| 32 | 33 |   8 |   3 |\n",
       "| 33 | 34 |   7 |   2 |\n",
       "| 34 | 35 |   7 |   2 |\n",
       "| 35 | 36 |   7 |   2 |\n",
       "| 36 | 37 |   7 |   2 |\n",
       "| 37 | 38 |   7 |   2 |\n",
       "| 38 | 39 |   7 |   2 |\n",
       "| 39 | 40 |   7 |   2 |\n",
       "| 40 | 41 |   5 |   1 |\n",
       "| 41 | 42 |   5 |   1 |\n",
       "| 42 | 43 |   5 |   1 |\n",
       "| 43 | 44 |   5 |   1 |\n",
       "| 44 | 45 |   5 |   1 |\n",
       "| 45 | 46 |   5 |   1 |\n",
       "| 46 | 47 |   0 |   0 |\n",
       "\n"
      ],
      "text/plain": [
       "   cut_off num_peptides num_clusters\n",
       "1   2      946          719         \n",
       "2   3      525          345         \n",
       "3   4      352          204         \n",
       "4   5      287          155         \n",
       "5   6      242          119         \n",
       "6   7      222          104         \n",
       "7   8      180           83         \n",
       "8   9      154           70         \n",
       "9  10      140           61         \n",
       "10 11      107           48         \n",
       "11 12       91           39         \n",
       "12 13       81           33         \n",
       "13 14       74           28         \n",
       "14 15       57           22         \n",
       "15 16       49           18         \n",
       "16 17       49           18         \n",
       "17 18       46           16         \n",
       "18 19       41           13         \n",
       "19 20       34           11         \n",
       "20 21       21            8         \n",
       "21 22       18            7         \n",
       "22 23       15            6         \n",
       "23 24       13            5         \n",
       "24 25       13            5         \n",
       "25 26       11            4         \n",
       "26 27       11            4         \n",
       "27 28        8            3         \n",
       "28 29        8            3         \n",
       "29 30        8            3         \n",
       "30 31        8            3         \n",
       "31 32        8            3         \n",
       "32 33        8            3         \n",
       "33 34        7            2         \n",
       "34 35        7            2         \n",
       "35 36        7            2         \n",
       "36 37        7            2         \n",
       "37 38        7            2         \n",
       "38 39        7            2         \n",
       "39 40        7            2         \n",
       "40 41        5            1         \n",
       "41 42        5            1         \n",
       "42 43        5            1         \n",
       "43 44        5            1         \n",
       "44 45        5            1         \n",
       "45 46        5            1         \n",
       "46 47        0            0         "
      ]
     },
     "metadata": {},
     "output_type": "display_data"
    }
   ],
   "source": [
    "num_clusters_at_different_cutoffs"
   ]
  },
  {
   "cell_type": "code",
   "execution_count": 30,
   "id": "0c1457e5-8126-4b1e-8029-f3ee7f6fe57e",
   "metadata": {},
   "outputs": [],
   "source": [
    "# write the results joined with other metadata to a file\n",
    "write_tsv(antiinflammatory1, \"outputs/analysis/20240626_filtered_antiinflammatory_with_metadata.tsv\")"
   ]
  },
  {
   "cell_type": "code",
   "execution_count": 31,
   "id": "0e3d366a-86cd-4a1f-bb0b-176b5a4cfac8",
   "metadata": {},
   "outputs": [
    {
     "data": {
      "text/plain": [
       "R version 4.3.3 (2024-02-29)\n",
       "Platform: x86_64-apple-darwin13.4.0 (64-bit)\n",
       "Running under: macOS Big Sur ... 10.16\n",
       "\n",
       "Matrix products: default\n",
       "BLAS/LAPACK: /Users/taylorreiter/miniconda3/envs/tidyjupyter/lib/libopenblasp-r0.3.26.dylib;  LAPACK version 3.12.0\n",
       "\n",
       "locale:\n",
       "[1] en_US.UTF-8/en_US.UTF-8/en_US.UTF-8/C/en_US.UTF-8/en_US.UTF-8\n",
       "\n",
       "time zone: America/New_York\n",
       "tzcode source: internal\n",
       "\n",
       "attached base packages:\n",
       "[1] stats     graphics  grDevices utils     datasets  methods   base     \n",
       "\n",
       "other attached packages:\n",
       " [1] lubridate_1.9.3 forcats_1.0.0   stringr_1.5.1   dplyr_1.1.4    \n",
       " [5] purrr_1.0.2     readr_2.1.5     tidyr_1.3.1     tibble_3.2.1   \n",
       " [9] ggplot2_3.5.0   tidyverse_2.0.0\n",
       "\n",
       "loaded via a namespace (and not attached):\n",
       " [1] bit_4.0.5        gtable_0.3.4     jsonlite_1.8.8   compiler_4.3.3  \n",
       " [5] crayon_1.5.2     tidyselect_1.2.0 IRdisplay_1.1    parallel_4.3.3  \n",
       " [9] scales_1.3.0     uuid_1.2-0       fastmap_1.1.1    IRkernel_1.3.2  \n",
       "[13] R6_2.5.1         labeling_0.4.3   generics_0.1.3   munsell_0.5.1   \n",
       "[17] pillar_1.9.0     tzdb_0.4.0       rlang_1.1.3      utf8_1.2.4      \n",
       "[21] stringi_1.8.3    repr_1.1.7       bit64_4.0.5      timechange_0.3.0\n",
       "[25] cli_3.6.2        withr_3.0.0      magrittr_2.0.3   digest_0.6.35   \n",
       "[29] grid_4.3.3       vroom_1.6.5      base64enc_0.1-3  hms_1.1.3       \n",
       "[33] pbdZMQ_0.3-11    lifecycle_1.0.4  vctrs_0.6.5      evaluate_0.23   \n",
       "[37] glue_1.7.0       farver_2.1.1     fansi_1.0.6      colorspace_2.1-0\n",
       "[41] tools_4.3.3      pkgconfig_2.0.3  htmltools_0.5.8 "
      ]
     },
     "metadata": {},
     "output_type": "display_data"
    }
   ],
   "source": [
    "sessionInfo()"
   ]
  },
  {
   "cell_type": "code",
   "execution_count": null,
   "id": "25d7033e-d3a6-49c3-8aab-fd822f50f417",
   "metadata": {},
   "outputs": [],
   "source": []
  }
 ],
 "metadata": {
  "kernelspec": {
   "display_name": "R",
   "language": "R",
   "name": "ir"
  },
  "language_info": {
   "codemirror_mode": "r",
   "file_extension": ".r",
   "mimetype": "text/x-r-source",
   "name": "R",
   "pygments_lexer": "r",
   "version": "4.3.3"
  }
 },
 "nbformat": 4,
 "nbformat_minor": 5
}
